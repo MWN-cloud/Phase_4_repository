{
 "cells": [
  {
   "cell_type": "markdown",
   "metadata": {
    "id": "96JyNMmhTO5_"
   },
   "source": [
    "# MOVIE LENS RECOMMENDATION SYSTEM"
   ]
  },
  {
   "cell_type": "markdown",
   "metadata": {
    "id": "cftpdo03dsuv"
   },
   "source": [
    "# Business Understanding\n",
    "\n"
   ]
  },
  {
   "cell_type": "markdown",
   "metadata": {
    "id": "_T5H-fLM7Tj2"
   },
   "source": [
    "## Problem Statement\n",
    "\n",
    "\n",
    "---\n",
    "\n",
    "\n",
    "In today's world where consumers face an overwhelming abundance of choices, recommender systems are nolonger optional but essential for businesses to thrive and maintain a competitive edge in a data driven marketplace.\n",
    "\n",
    "Recommender systems provide personalized guidance, thereby enhancing decision making and user satisfaction by predicting user preferences and surfacing relevant items such as movies, books, music and products from vast inventories through user past behaviour, preference or a combination of both.\n",
    "\n",
    "Recommendation systems are pivotal in navigating the \"Long Tail\"—a phenomenon where niche, less-popular items collectively represent significant value but remain undiscovered without intelligent filtering.\n",
    "\n",
    "By analyzing user behavior and leveraging predictive models, these systems drive customer engagement, loyalty, and profitability. For businesses, they unlock opportunities to monetize the Long Tail, improve retention, and deliver personalized experiences.\n",
    "\n",
    "The Key Impact of recommender systems include :\n",
    "\n",
    "            1.   User Experience: Simplify discovery in a sea of options, ensuring tailored recommendations.\n",
    "            2.   Business Value: Increase sales, reduce choice overload, and capitalize on niche markets.\n",
    "            3.   Competitive Edge: Transform vast inventories into curated, actionable insights for users."
   ]
  },
  {
   "cell_type": "markdown",
   "metadata": {
    "id": "7wYxCtI17btE"
   },
   "source": [
    "## Overview\n",
    "The goal of this project is to build a recommendation model that provides the top 5 personalized movie recommendations to a user based on their past ratings, preferences. By analyzing user preferences and comparing them with patterns in the ratings of other users or movies, the system aims to predict what a user would enjoy watching next.\n",
    "\n",
    "Primarily, this project will recommend movies using Collaborative Filtering, and hybrid approach which will combine both content based and collaborative filtering to handle cold start cases\n",
    "\n",
    "\n",
    "---\n",
    "\n",
    "\n",
    "### Key Features\n",
    "\n",
    "---\n",
    "1. Dataset: MovieLens latest small having 100,000 ratings\n",
    "2. Core method: Collaborative filtering approach\n",
    "3. Evaluation Metrics:\n",
    "4. Stretch goal: Hybrid approach for cold start issues\n",
    "\n",
    "\n",
    "---\n",
    "\n",
    "### Reasons for Chosing Project\n",
    "\n",
    "---\n",
    "\n",
    "1. Real World relevance:- Recommendation systems drive engagement in Platforms such as Amazon, Instagram, Reddit, Netflix and Google\n",
    "2. Academic Benchmark:- MovieLens is a standard dataset for testing recommendation algorithms from the  GroupLens research lab at the University of Minnesota\n",
    "3. Is a scalable solution capable of extending with Neural networks or hybrid models"
   ]
  },
  {
   "cell_type": "markdown",
   "metadata": {
    "id": "y4V-14R3eM9t"
   },
   "source": [
    "## Objectives\n",
    "\n",
    "\n",
    "\n",
    "---\n",
    "\n",
    "\n",
    "\n",
    "1. Develop a collaborative filtering based recommendation system to predict user preferences\n",
    "2. Provide personalized recommendations to enhance user engagement and satisfaction\n",
    "3. Address the cold start problem i.e new users and or movies with no ratings\n"
   ]
  },
  {
   "cell_type": "markdown",
   "metadata": {
    "id": "4KvZMiUbbcuv"
   },
   "source": [
    "## Success criteria\n",
    "\n",
    "1. Model Performance: Achieve a low RMSE prediction error of (RMSE<0.9) on test Data\n",
    "\n",
    "2. User Satisfaction: Recommendations should align with user preferences  as evaluated via user feedback or online metrics\n",
    "\n",
    "3. The system should be scalable to handle new users or movies efficiently\n"
   ]
  },
  {
   "cell_type": "markdown",
   "metadata": {
    "id": "O6SMPFEnMqAp"
   },
   "source": [
    "# Data understanding\n",
    "The data seems to have been split between train and test data"
   ]
  },
  {
   "cell_type": "code",
   "execution_count": 1,
   "metadata": {
    "id": "IKp3N__yLvxx"
   },
   "outputs": [],
   "source": [
    "#importing libraries to support in data understanding and cleaning\n",
    "import pandas as pd\n",
    "import numpy as np\n",
    "import matplotlib.pyplot as plt\n",
    "import seaborn as sns\n",
    "import warnings\n",
    "\n",
    "warnings.filterwarnings('ignore')"
   ]
  },
  {
   "cell_type": "code",
   "execution_count": 2,
   "metadata": {
    "id": "1GTJp4uyMfRn"
   },
   "outputs": [],
   "source": [
    "# import the files\n",
    "movies= pd.read_csv('movies.csv')\n",
    "ratings=pd.read_csv('ratings.csv')\n",
    "tags=pd.read_csv('tags.csv')"
   ]
  },
  {
   "cell_type": "code",
   "execution_count": 3,
   "metadata": {
    "colab": {
     "base_uri": "https://localhost:8080/",
     "height": 894
    },
    "executionInfo": {
     "elapsed": 153,
     "status": "ok",
     "timestamp": 1744828581503,
     "user": {
      "displayName": "Maureen Ngahu",
      "userId": "08681592930822732414"
     },
     "user_tz": -180
    },
    "id": "5HCVSB0tkBTl",
    "outputId": "765829db-8a99-478a-a925-228e25a505f3"
   },
   "outputs": [
    {
     "data": {
      "text/html": [
       "<div>\n",
       "<style scoped>\n",
       "    .dataframe tbody tr th:only-of-type {\n",
       "        vertical-align: middle;\n",
       "    }\n",
       "\n",
       "    .dataframe tbody tr th {\n",
       "        vertical-align: top;\n",
       "    }\n",
       "\n",
       "    .dataframe thead th {\n",
       "        text-align: right;\n",
       "    }\n",
       "</style>\n",
       "<table border=\"1\" class=\"dataframe\">\n",
       "  <thead>\n",
       "    <tr style=\"text-align: right;\">\n",
       "      <th></th>\n",
       "      <th>movieId</th>\n",
       "      <th>title</th>\n",
       "      <th>genres</th>\n",
       "      <th>userId_x</th>\n",
       "      <th>rating</th>\n",
       "      <th>timestamp_x</th>\n",
       "      <th>userId_y</th>\n",
       "      <th>tag</th>\n",
       "      <th>timestamp_y</th>\n",
       "    </tr>\n",
       "  </thead>\n",
       "  <tbody>\n",
       "    <tr>\n",
       "      <th>0</th>\n",
       "      <td>1</td>\n",
       "      <td>Toy Story (1995)</td>\n",
       "      <td>Adventure|Animation|Children|Comedy|Fantasy</td>\n",
       "      <td>1</td>\n",
       "      <td>4.0</td>\n",
       "      <td>964982703</td>\n",
       "      <td>336</td>\n",
       "      <td>pixar</td>\n",
       "      <td>1139045764</td>\n",
       "    </tr>\n",
       "    <tr>\n",
       "      <th>1</th>\n",
       "      <td>1</td>\n",
       "      <td>Toy Story (1995)</td>\n",
       "      <td>Adventure|Animation|Children|Comedy|Fantasy</td>\n",
       "      <td>1</td>\n",
       "      <td>4.0</td>\n",
       "      <td>964982703</td>\n",
       "      <td>474</td>\n",
       "      <td>pixar</td>\n",
       "      <td>1137206825</td>\n",
       "    </tr>\n",
       "    <tr>\n",
       "      <th>2</th>\n",
       "      <td>1</td>\n",
       "      <td>Toy Story (1995)</td>\n",
       "      <td>Adventure|Animation|Children|Comedy|Fantasy</td>\n",
       "      <td>1</td>\n",
       "      <td>4.0</td>\n",
       "      <td>964982703</td>\n",
       "      <td>567</td>\n",
       "      <td>fun</td>\n",
       "      <td>1525286013</td>\n",
       "    </tr>\n",
       "    <tr>\n",
       "      <th>3</th>\n",
       "      <td>1</td>\n",
       "      <td>Toy Story (1995)</td>\n",
       "      <td>Adventure|Animation|Children|Comedy|Fantasy</td>\n",
       "      <td>5</td>\n",
       "      <td>4.0</td>\n",
       "      <td>847434962</td>\n",
       "      <td>336</td>\n",
       "      <td>pixar</td>\n",
       "      <td>1139045764</td>\n",
       "    </tr>\n",
       "    <tr>\n",
       "      <th>4</th>\n",
       "      <td>1</td>\n",
       "      <td>Toy Story (1995)</td>\n",
       "      <td>Adventure|Animation|Children|Comedy|Fantasy</td>\n",
       "      <td>5</td>\n",
       "      <td>4.0</td>\n",
       "      <td>847434962</td>\n",
       "      <td>474</td>\n",
       "      <td>pixar</td>\n",
       "      <td>1137206825</td>\n",
       "    </tr>\n",
       "    <tr>\n",
       "      <th>...</th>\n",
       "      <td>...</td>\n",
       "      <td>...</td>\n",
       "      <td>...</td>\n",
       "      <td>...</td>\n",
       "      <td>...</td>\n",
       "      <td>...</td>\n",
       "      <td>...</td>\n",
       "      <td>...</td>\n",
       "      <td>...</td>\n",
       "    </tr>\n",
       "    <tr>\n",
       "      <th>233208</th>\n",
       "      <td>187595</td>\n",
       "      <td>Solo: A Star Wars Story (2018)</td>\n",
       "      <td>Action|Adventure|Children|Sci-Fi</td>\n",
       "      <td>586</td>\n",
       "      <td>5.0</td>\n",
       "      <td>1529899556</td>\n",
       "      <td>62</td>\n",
       "      <td>star wars</td>\n",
       "      <td>1528934552</td>\n",
       "    </tr>\n",
       "    <tr>\n",
       "      <th>233209</th>\n",
       "      <td>193565</td>\n",
       "      <td>Gintama: The Movie (2010)</td>\n",
       "      <td>Action|Animation|Comedy|Sci-Fi</td>\n",
       "      <td>184</td>\n",
       "      <td>3.5</td>\n",
       "      <td>1537098554</td>\n",
       "      <td>184</td>\n",
       "      <td>anime</td>\n",
       "      <td>1537098582</td>\n",
       "    </tr>\n",
       "    <tr>\n",
       "      <th>233210</th>\n",
       "      <td>193565</td>\n",
       "      <td>Gintama: The Movie (2010)</td>\n",
       "      <td>Action|Animation|Comedy|Sci-Fi</td>\n",
       "      <td>184</td>\n",
       "      <td>3.5</td>\n",
       "      <td>1537098554</td>\n",
       "      <td>184</td>\n",
       "      <td>comedy</td>\n",
       "      <td>1537098587</td>\n",
       "    </tr>\n",
       "    <tr>\n",
       "      <th>233211</th>\n",
       "      <td>193565</td>\n",
       "      <td>Gintama: The Movie (2010)</td>\n",
       "      <td>Action|Animation|Comedy|Sci-Fi</td>\n",
       "      <td>184</td>\n",
       "      <td>3.5</td>\n",
       "      <td>1537098554</td>\n",
       "      <td>184</td>\n",
       "      <td>gintama</td>\n",
       "      <td>1537098603</td>\n",
       "    </tr>\n",
       "    <tr>\n",
       "      <th>233212</th>\n",
       "      <td>193565</td>\n",
       "      <td>Gintama: The Movie (2010)</td>\n",
       "      <td>Action|Animation|Comedy|Sci-Fi</td>\n",
       "      <td>184</td>\n",
       "      <td>3.5</td>\n",
       "      <td>1537098554</td>\n",
       "      <td>184</td>\n",
       "      <td>remaster</td>\n",
       "      <td>1537098592</td>\n",
       "    </tr>\n",
       "  </tbody>\n",
       "</table>\n",
       "<p>233213 rows × 9 columns</p>\n",
       "</div>"
      ],
      "text/plain": [
       "        movieId                           title  \\\n",
       "0             1                Toy Story (1995)   \n",
       "1             1                Toy Story (1995)   \n",
       "2             1                Toy Story (1995)   \n",
       "3             1                Toy Story (1995)   \n",
       "4             1                Toy Story (1995)   \n",
       "...         ...                             ...   \n",
       "233208   187595  Solo: A Star Wars Story (2018)   \n",
       "233209   193565       Gintama: The Movie (2010)   \n",
       "233210   193565       Gintama: The Movie (2010)   \n",
       "233211   193565       Gintama: The Movie (2010)   \n",
       "233212   193565       Gintama: The Movie (2010)   \n",
       "\n",
       "                                             genres  userId_x  rating  \\\n",
       "0       Adventure|Animation|Children|Comedy|Fantasy         1     4.0   \n",
       "1       Adventure|Animation|Children|Comedy|Fantasy         1     4.0   \n",
       "2       Adventure|Animation|Children|Comedy|Fantasy         1     4.0   \n",
       "3       Adventure|Animation|Children|Comedy|Fantasy         5     4.0   \n",
       "4       Adventure|Animation|Children|Comedy|Fantasy         5     4.0   \n",
       "...                                             ...       ...     ...   \n",
       "233208             Action|Adventure|Children|Sci-Fi       586     5.0   \n",
       "233209               Action|Animation|Comedy|Sci-Fi       184     3.5   \n",
       "233210               Action|Animation|Comedy|Sci-Fi       184     3.5   \n",
       "233211               Action|Animation|Comedy|Sci-Fi       184     3.5   \n",
       "233212               Action|Animation|Comedy|Sci-Fi       184     3.5   \n",
       "\n",
       "        timestamp_x  userId_y        tag  timestamp_y  \n",
       "0         964982703       336      pixar   1139045764  \n",
       "1         964982703       474      pixar   1137206825  \n",
       "2         964982703       567        fun   1525286013  \n",
       "3         847434962       336      pixar   1139045764  \n",
       "4         847434962       474      pixar   1137206825  \n",
       "...             ...       ...        ...          ...  \n",
       "233208   1529899556        62  star wars   1528934552  \n",
       "233209   1537098554       184      anime   1537098582  \n",
       "233210   1537098554       184     comedy   1537098587  \n",
       "233211   1537098554       184    gintama   1537098603  \n",
       "233212   1537098554       184   remaster   1537098592  \n",
       "\n",
       "[233213 rows x 9 columns]"
      ]
     },
     "execution_count": 3,
     "metadata": {},
     "output_type": "execute_result"
    }
   ],
   "source": [
    "# merge the csv files and rename user and timestamp columns as per table\n",
    "df_merge = movies.merge(ratings, on=\"movieId\")\\\n",
    ".merge(tags, on=(\"movieId\"))\n",
    "df_merge"
   ]
  },
  {
   "cell_type": "code",
   "execution_count": 4,
   "metadata": {
    "id": "RfQ0zM9BhN0O"
   },
   "outputs": [],
   "source": [
    "df_merge = df_merge.rename(columns={\n",
    "    'userId_x': 'userId_rating',\n",
    "    'timestamp_x': 'timestamp_rating',\n",
    "    'userId_y': 'userId_tag',\n",
    "    'timestamp_y': 'timestamp_tag'\n",
    "})"
   ]
  },
  {
   "cell_type": "code",
   "execution_count": 5,
   "metadata": {
    "colab": {
     "base_uri": "https://localhost:8080/"
    },
    "executionInfo": {
     "elapsed": 23,
     "status": "ok",
     "timestamp": 1744828581571,
     "user": {
      "displayName": "Maureen Ngahu",
      "userId": "08681592930822732414"
     },
     "user_tz": -180
    },
    "id": "6DbSqMj1kxSL",
    "outputId": "cd8c1402-6e78-454e-b398-329d82ba0aed"
   },
   "outputs": [
    {
     "data": {
      "text/plain": [
       "(233213, 9)"
      ]
     },
     "execution_count": 5,
     "metadata": {},
     "output_type": "execute_result"
    }
   ],
   "source": [
    "df_merge.shape"
   ]
  },
  {
   "cell_type": "code",
   "execution_count": 6,
   "metadata": {
    "colab": {
     "base_uri": "https://localhost:8080/",
     "height": 503
    },
    "executionInfo": {
     "elapsed": 49,
     "status": "ok",
     "timestamp": 1744828581646,
     "user": {
      "displayName": "Maureen Ngahu",
      "userId": "08681592930822732414"
     },
     "user_tz": -180
    },
    "id": "36Kw3OjNBgNv",
    "outputId": "baf74953-2886-493e-e4f5-28680330e2b3"
   },
   "outputs": [
    {
     "data": {
      "text/html": [
       "<div>\n",
       "<style scoped>\n",
       "    .dataframe tbody tr th:only-of-type {\n",
       "        vertical-align: middle;\n",
       "    }\n",
       "\n",
       "    .dataframe tbody tr th {\n",
       "        vertical-align: top;\n",
       "    }\n",
       "\n",
       "    .dataframe thead th {\n",
       "        text-align: right;\n",
       "    }\n",
       "</style>\n",
       "<table border=\"1\" class=\"dataframe\">\n",
       "  <thead>\n",
       "    <tr style=\"text-align: right;\">\n",
       "      <th></th>\n",
       "      <th>movieId</th>\n",
       "      <th>title</th>\n",
       "      <th>genres</th>\n",
       "      <th>userId_rating</th>\n",
       "      <th>rating</th>\n",
       "      <th>timestamp_rating</th>\n",
       "      <th>userId_tag</th>\n",
       "      <th>tag</th>\n",
       "      <th>timestamp_tag</th>\n",
       "    </tr>\n",
       "  </thead>\n",
       "  <tbody>\n",
       "    <tr>\n",
       "      <th>233208</th>\n",
       "      <td>187595</td>\n",
       "      <td>Solo: A Star Wars Story (2018)</td>\n",
       "      <td>Action|Adventure|Children|Sci-Fi</td>\n",
       "      <td>586</td>\n",
       "      <td>5.0</td>\n",
       "      <td>1529899556</td>\n",
       "      <td>62</td>\n",
       "      <td>star wars</td>\n",
       "      <td>1528934552</td>\n",
       "    </tr>\n",
       "    <tr>\n",
       "      <th>233209</th>\n",
       "      <td>193565</td>\n",
       "      <td>Gintama: The Movie (2010)</td>\n",
       "      <td>Action|Animation|Comedy|Sci-Fi</td>\n",
       "      <td>184</td>\n",
       "      <td>3.5</td>\n",
       "      <td>1537098554</td>\n",
       "      <td>184</td>\n",
       "      <td>anime</td>\n",
       "      <td>1537098582</td>\n",
       "    </tr>\n",
       "    <tr>\n",
       "      <th>233210</th>\n",
       "      <td>193565</td>\n",
       "      <td>Gintama: The Movie (2010)</td>\n",
       "      <td>Action|Animation|Comedy|Sci-Fi</td>\n",
       "      <td>184</td>\n",
       "      <td>3.5</td>\n",
       "      <td>1537098554</td>\n",
       "      <td>184</td>\n",
       "      <td>comedy</td>\n",
       "      <td>1537098587</td>\n",
       "    </tr>\n",
       "    <tr>\n",
       "      <th>233211</th>\n",
       "      <td>193565</td>\n",
       "      <td>Gintama: The Movie (2010)</td>\n",
       "      <td>Action|Animation|Comedy|Sci-Fi</td>\n",
       "      <td>184</td>\n",
       "      <td>3.5</td>\n",
       "      <td>1537098554</td>\n",
       "      <td>184</td>\n",
       "      <td>gintama</td>\n",
       "      <td>1537098603</td>\n",
       "    </tr>\n",
       "    <tr>\n",
       "      <th>233212</th>\n",
       "      <td>193565</td>\n",
       "      <td>Gintama: The Movie (2010)</td>\n",
       "      <td>Action|Animation|Comedy|Sci-Fi</td>\n",
       "      <td>184</td>\n",
       "      <td>3.5</td>\n",
       "      <td>1537098554</td>\n",
       "      <td>184</td>\n",
       "      <td>remaster</td>\n",
       "      <td>1537098592</td>\n",
       "    </tr>\n",
       "  </tbody>\n",
       "</table>\n",
       "</div>"
      ],
      "text/plain": [
       "        movieId                           title  \\\n",
       "233208   187595  Solo: A Star Wars Story (2018)   \n",
       "233209   193565       Gintama: The Movie (2010)   \n",
       "233210   193565       Gintama: The Movie (2010)   \n",
       "233211   193565       Gintama: The Movie (2010)   \n",
       "233212   193565       Gintama: The Movie (2010)   \n",
       "\n",
       "                                  genres  userId_rating  rating  \\\n",
       "233208  Action|Adventure|Children|Sci-Fi            586     5.0   \n",
       "233209    Action|Animation|Comedy|Sci-Fi            184     3.5   \n",
       "233210    Action|Animation|Comedy|Sci-Fi            184     3.5   \n",
       "233211    Action|Animation|Comedy|Sci-Fi            184     3.5   \n",
       "233212    Action|Animation|Comedy|Sci-Fi            184     3.5   \n",
       "\n",
       "        timestamp_rating  userId_tag        tag  timestamp_tag  \n",
       "233208        1529899556          62  star wars     1528934552  \n",
       "233209        1537098554         184      anime     1537098582  \n",
       "233210        1537098554         184     comedy     1537098587  \n",
       "233211        1537098554         184    gintama     1537098603  \n",
       "233212        1537098554         184   remaster     1537098592  "
      ]
     },
     "execution_count": 6,
     "metadata": {},
     "output_type": "execute_result"
    }
   ],
   "source": [
    "df_merge.tail()"
   ]
  },
  {
   "cell_type": "code",
   "execution_count": 7,
   "metadata": {
    "colab": {
     "base_uri": "https://localhost:8080/"
    },
    "executionInfo": {
     "elapsed": 46,
     "status": "ok",
     "timestamp": 1744828581691,
     "user": {
      "displayName": "Maureen Ngahu",
      "userId": "08681592930822732414"
     },
     "user_tz": -180
    },
    "id": "uDMPTw--Ah2v",
    "outputId": "46245443-8237-4f53-ccf5-0b546468fdd3"
   },
   "outputs": [
    {
     "name": "stdout",
     "output_type": "stream",
     "text": [
      "<class 'pandas.core.frame.DataFrame'>\n",
      "Int64Index: 233213 entries, 0 to 233212\n",
      "Data columns (total 9 columns):\n",
      " #   Column            Non-Null Count   Dtype  \n",
      "---  ------            --------------   -----  \n",
      " 0   movieId           233213 non-null  int64  \n",
      " 1   title             233213 non-null  object \n",
      " 2   genres            233213 non-null  object \n",
      " 3   userId_rating     233213 non-null  int64  \n",
      " 4   rating            233213 non-null  float64\n",
      " 5   timestamp_rating  233213 non-null  int64  \n",
      " 6   userId_tag        233213 non-null  int64  \n",
      " 7   tag               233213 non-null  object \n",
      " 8   timestamp_tag     233213 non-null  int64  \n",
      "dtypes: float64(1), int64(5), object(3)\n",
      "memory usage: 17.8+ MB\n"
     ]
    }
   ],
   "source": [
    "df_merge.info()"
   ]
  },
  {
   "cell_type": "code",
   "execution_count": 8,
   "metadata": {
    "colab": {
     "base_uri": "https://localhost:8080/",
     "height": 300
    },
    "executionInfo": {
     "elapsed": 85,
     "status": "ok",
     "timestamp": 1744828581777,
     "user": {
      "displayName": "Maureen Ngahu",
      "userId": "08681592930822732414"
     },
     "user_tz": -180
    },
    "id": "jdTPIieohqFP",
    "outputId": "8d65f22e-c852-4853-957c-b95bb9a0a09a"
   },
   "outputs": [
    {
     "data": {
      "text/html": [
       "<div>\n",
       "<style scoped>\n",
       "    .dataframe tbody tr th:only-of-type {\n",
       "        vertical-align: middle;\n",
       "    }\n",
       "\n",
       "    .dataframe tbody tr th {\n",
       "        vertical-align: top;\n",
       "    }\n",
       "\n",
       "    .dataframe thead th {\n",
       "        text-align: right;\n",
       "    }\n",
       "</style>\n",
       "<table border=\"1\" class=\"dataframe\">\n",
       "  <thead>\n",
       "    <tr style=\"text-align: right;\">\n",
       "      <th></th>\n",
       "      <th>movieId</th>\n",
       "      <th>userId_rating</th>\n",
       "      <th>rating</th>\n",
       "      <th>timestamp_rating</th>\n",
       "      <th>userId_tag</th>\n",
       "      <th>timestamp_tag</th>\n",
       "    </tr>\n",
       "  </thead>\n",
       "  <tbody>\n",
       "    <tr>\n",
       "      <th>count</th>\n",
       "      <td>233213.000000</td>\n",
       "      <td>233213.000000</td>\n",
       "      <td>233213.000000</td>\n",
       "      <td>2.332130e+05</td>\n",
       "      <td>233213.000000</td>\n",
       "      <td>2.332130e+05</td>\n",
       "    </tr>\n",
       "    <tr>\n",
       "      <th>mean</th>\n",
       "      <td>12319.999443</td>\n",
       "      <td>309.688191</td>\n",
       "      <td>3.966535</td>\n",
       "      <td>1.213524e+09</td>\n",
       "      <td>470.683564</td>\n",
       "      <td>1.384774e+09</td>\n",
       "    </tr>\n",
       "    <tr>\n",
       "      <th>std</th>\n",
       "      <td>28243.919401</td>\n",
       "      <td>178.206387</td>\n",
       "      <td>0.968637</td>\n",
       "      <td>2.250448e+08</td>\n",
       "      <td>153.329632</td>\n",
       "      <td>1.534621e+08</td>\n",
       "    </tr>\n",
       "    <tr>\n",
       "      <th>min</th>\n",
       "      <td>1.000000</td>\n",
       "      <td>1.000000</td>\n",
       "      <td>0.500000</td>\n",
       "      <td>8.281246e+08</td>\n",
       "      <td>2.000000</td>\n",
       "      <td>1.137179e+09</td>\n",
       "    </tr>\n",
       "    <tr>\n",
       "      <th>25%</th>\n",
       "      <td>296.000000</td>\n",
       "      <td>156.000000</td>\n",
       "      <td>3.500000</td>\n",
       "      <td>1.017365e+09</td>\n",
       "      <td>424.000000</td>\n",
       "      <td>1.242494e+09</td>\n",
       "    </tr>\n",
       "    <tr>\n",
       "      <th>50%</th>\n",
       "      <td>1198.000000</td>\n",
       "      <td>309.000000</td>\n",
       "      <td>4.000000</td>\n",
       "      <td>1.217325e+09</td>\n",
       "      <td>477.000000</td>\n",
       "      <td>1.457901e+09</td>\n",
       "    </tr>\n",
       "    <tr>\n",
       "      <th>75%</th>\n",
       "      <td>4638.000000</td>\n",
       "      <td>460.000000</td>\n",
       "      <td>5.000000</td>\n",
       "      <td>1.443201e+09</td>\n",
       "      <td>599.000000</td>\n",
       "      <td>1.498457e+09</td>\n",
       "    </tr>\n",
       "    <tr>\n",
       "      <th>max</th>\n",
       "      <td>193565.000000</td>\n",
       "      <td>610.000000</td>\n",
       "      <td>5.000000</td>\n",
       "      <td>1.537799e+09</td>\n",
       "      <td>610.000000</td>\n",
       "      <td>1.537099e+09</td>\n",
       "    </tr>\n",
       "  </tbody>\n",
       "</table>\n",
       "</div>"
      ],
      "text/plain": [
       "             movieId  userId_rating         rating  timestamp_rating  \\\n",
       "count  233213.000000  233213.000000  233213.000000      2.332130e+05   \n",
       "mean    12319.999443     309.688191       3.966535      1.213524e+09   \n",
       "std     28243.919401     178.206387       0.968637      2.250448e+08   \n",
       "min         1.000000       1.000000       0.500000      8.281246e+08   \n",
       "25%       296.000000     156.000000       3.500000      1.017365e+09   \n",
       "50%      1198.000000     309.000000       4.000000      1.217325e+09   \n",
       "75%      4638.000000     460.000000       5.000000      1.443201e+09   \n",
       "max    193565.000000     610.000000       5.000000      1.537799e+09   \n",
       "\n",
       "          userId_tag  timestamp_tag  \n",
       "count  233213.000000   2.332130e+05  \n",
       "mean      470.683564   1.384774e+09  \n",
       "std       153.329632   1.534621e+08  \n",
       "min         2.000000   1.137179e+09  \n",
       "25%       424.000000   1.242494e+09  \n",
       "50%       477.000000   1.457901e+09  \n",
       "75%       599.000000   1.498457e+09  \n",
       "max       610.000000   1.537099e+09  "
      ]
     },
     "execution_count": 8,
     "metadata": {},
     "output_type": "execute_result"
    }
   ],
   "source": [
    "df_merge.describe()"
   ]
  },
  {
   "cell_type": "markdown",
   "metadata": {
    "id": "4gCv1TpOGP5q"
   },
   "source": [
    "#Data Cleaning"
   ]
  },
  {
   "cell_type": "markdown",
   "metadata": {
    "id": "biimDwTzGdvo"
   },
   "source": [
    "Handling null values\n",
    "\n",
    "Dropping duplicates\n",
    "\n",
    "Display and Clean Outliers\n",
    "\n"
   ]
  },
  {
   "cell_type": "code",
   "execution_count": 9,
   "metadata": {
    "colab": {
     "base_uri": "https://localhost:8080/",
     "height": 366
    },
    "executionInfo": {
     "elapsed": 75,
     "status": "ok",
     "timestamp": 1744828581850,
     "user": {
      "displayName": "Maureen Ngahu",
      "userId": "08681592930822732414"
     },
     "user_tz": -180
    },
    "id": "8Saa2R9WaxAc",
    "outputId": "564b8440-e73e-45bc-97ca-75ae02ce3018"
   },
   "outputs": [
    {
     "data": {
      "text/plain": [
       "movieId             0\n",
       "title               0\n",
       "genres              0\n",
       "userId_rating       0\n",
       "rating              0\n",
       "timestamp_rating    0\n",
       "userId_tag          0\n",
       "tag                 0\n",
       "timestamp_tag       0\n",
       "dtype: int64"
      ]
     },
     "execution_count": 9,
     "metadata": {},
     "output_type": "execute_result"
    }
   ],
   "source": [
    "# check for missing values\n",
    "df_merge.isna().sum()"
   ]
  },
  {
   "cell_type": "code",
   "execution_count": 10,
   "metadata": {
    "colab": {
     "base_uri": "https://localhost:8080/",
     "height": 654
    },
    "executionInfo": {
     "elapsed": 2658,
     "status": "ok",
     "timestamp": 1744828584505,
     "user": {
      "displayName": "Maureen Ngahu",
      "userId": "08681592930822732414"
     },
     "user_tz": -180
    },
    "id": "Yge05v5RjMZw",
    "outputId": "45f32d11-f020-4cf0-b204-01f0ad161492"
   },
   "outputs": [
    {
     "data": {
      "image/png": "[encoded data removed]",
      "text/plain": [
       "<Figure size 720x432 with 1 Axes>"
      ]
     },
     "metadata": {
      "needs_background": "light"
     },
     "output_type": "display_data"
    }
   ],
   "source": [
    "# missing values heatmap\n",
    "plt.figure(figsize=(10, 6))\n",
    "sns.heatmap(df_merge.isna(), cmap='viridis', cbar=False)\n",
    "plt.title('Missing Values Heatmap')\n",
    "plt.show()"
   ]
  },
  {
   "cell_type": "code",
   "execution_count": 11,
   "metadata": {
    "colab": {
     "base_uri": "https://localhost:8080/"
    },
    "executionInfo": {
     "elapsed": 36,
     "status": "ok",
     "timestamp": 1744828584543,
     "user": {
      "displayName": "Maureen Ngahu",
      "userId": "08681592930822732414"
     },
     "user_tz": -180
    },
    "id": "9hZwL23qMyzI",
    "outputId": "af9b63fa-513b-4c57-d788-4eef507c6b60"
   },
   "outputs": [
    {
     "data": {
      "text/plain": [
       "0"
      ]
     },
     "execution_count": 11,
     "metadata": {},
     "output_type": "execute_result"
    }
   ],
   "source": [
    "# check duplicates\n",
    "df_merge.duplicated().sum()"
   ]
  },
  {
   "cell_type": "code",
   "execution_count": 12,
   "metadata": {
    "colab": {
     "base_uri": "https://localhost:8080/",
     "height": 669
    },
    "executionInfo": {
     "elapsed": 38,
     "status": "ok",
     "timestamp": 1744828584580,
     "user": {
      "displayName": "Maureen Ngahu",
      "userId": "08681592930822732414"
     },
     "user_tz": -180
    },
    "id": "bkAfiJQ8XBIY",
    "outputId": "76ead843-69f2-488f-8cba-f12cbd57574f"
   },
   "outputs": [
    {
     "data": {
      "text/html": [
       "<div>\n",
       "<style scoped>\n",
       "    .dataframe tbody tr th:only-of-type {\n",
       "        vertical-align: middle;\n",
       "    }\n",
       "\n",
       "    .dataframe tbody tr th {\n",
       "        vertical-align: top;\n",
       "    }\n",
       "\n",
       "    .dataframe thead th {\n",
       "        text-align: right;\n",
       "    }\n",
       "</style>\n",
       "<table border=\"1\" class=\"dataframe\">\n",
       "  <thead>\n",
       "    <tr style=\"text-align: right;\">\n",
       "      <th></th>\n",
       "      <th>movieId</th>\n",
       "      <th>title</th>\n",
       "      <th>genres</th>\n",
       "      <th>userId_rating</th>\n",
       "      <th>rating</th>\n",
       "      <th>timestamp_rating</th>\n",
       "      <th>userId_tag</th>\n",
       "      <th>tag</th>\n",
       "      <th>timestamp_tag</th>\n",
       "    </tr>\n",
       "  </thead>\n",
       "  <tbody>\n",
       "    <tr>\n",
       "      <th>78</th>\n",
       "      <td>1</td>\n",
       "      <td>Toy Story (1995)</td>\n",
       "      <td>Adventure|Animation|Children|Comedy|Fantasy</td>\n",
       "      <td>76</td>\n",
       "      <td>0.5</td>\n",
       "      <td>1439165548</td>\n",
       "      <td>336</td>\n",
       "      <td>pixar</td>\n",
       "      <td>1139045764</td>\n",
       "    </tr>\n",
       "    <tr>\n",
       "      <th>79</th>\n",
       "      <td>1</td>\n",
       "      <td>Toy Story (1995)</td>\n",
       "      <td>Adventure|Animation|Children|Comedy|Fantasy</td>\n",
       "      <td>76</td>\n",
       "      <td>0.5</td>\n",
       "      <td>1439165548</td>\n",
       "      <td>474</td>\n",
       "      <td>pixar</td>\n",
       "      <td>1137206825</td>\n",
       "    </tr>\n",
       "    <tr>\n",
       "      <th>80</th>\n",
       "      <td>1</td>\n",
       "      <td>Toy Story (1995)</td>\n",
       "      <td>Adventure|Animation|Children|Comedy|Fantasy</td>\n",
       "      <td>76</td>\n",
       "      <td>0.5</td>\n",
       "      <td>1439165548</td>\n",
       "      <td>567</td>\n",
       "      <td>fun</td>\n",
       "      <td>1525286013</td>\n",
       "    </tr>\n",
       "    <tr>\n",
       "      <th>741</th>\n",
       "      <td>2</td>\n",
       "      <td>Jumanji (1995)</td>\n",
       "      <td>Adventure|Children|Fantasy</td>\n",
       "      <td>149</td>\n",
       "      <td>1.0</td>\n",
       "      <td>902084874</td>\n",
       "      <td>62</td>\n",
       "      <td>fantasy</td>\n",
       "      <td>1528843929</td>\n",
       "    </tr>\n",
       "    <tr>\n",
       "      <th>742</th>\n",
       "      <td>2</td>\n",
       "      <td>Jumanji (1995)</td>\n",
       "      <td>Adventure|Children|Fantasy</td>\n",
       "      <td>149</td>\n",
       "      <td>1.0</td>\n",
       "      <td>902084874</td>\n",
       "      <td>62</td>\n",
       "      <td>magic board game</td>\n",
       "      <td>1528843932</td>\n",
       "    </tr>\n",
       "    <tr>\n",
       "      <th>...</th>\n",
       "      <td>...</td>\n",
       "      <td>...</td>\n",
       "      <td>...</td>\n",
       "      <td>...</td>\n",
       "      <td>...</td>\n",
       "      <td>...</td>\n",
       "      <td>...</td>\n",
       "      <td>...</td>\n",
       "      <td>...</td>\n",
       "    </tr>\n",
       "    <tr>\n",
       "      <th>233155</th>\n",
       "      <td>184471</td>\n",
       "      <td>Tomb Raider (2018)</td>\n",
       "      <td>Action|Adventure|Fantasy</td>\n",
       "      <td>153</td>\n",
       "      <td>0.5</td>\n",
       "      <td>1525553051</td>\n",
       "      <td>62</td>\n",
       "      <td>Alicia Vikander</td>\n",
       "      <td>1528024914</td>\n",
       "    </tr>\n",
       "    <tr>\n",
       "      <th>233156</th>\n",
       "      <td>184471</td>\n",
       "      <td>Tomb Raider (2018)</td>\n",
       "      <td>Action|Adventure|Fantasy</td>\n",
       "      <td>153</td>\n",
       "      <td>0.5</td>\n",
       "      <td>1525553051</td>\n",
       "      <td>62</td>\n",
       "      <td>video game adaptation</td>\n",
       "      <td>1528024898</td>\n",
       "    </tr>\n",
       "    <tr>\n",
       "      <th>233187</th>\n",
       "      <td>187593</td>\n",
       "      <td>Deadpool 2 (2018)</td>\n",
       "      <td>Action|Comedy|Sci-Fi</td>\n",
       "      <td>338</td>\n",
       "      <td>1.0</td>\n",
       "      <td>1530148465</td>\n",
       "      <td>62</td>\n",
       "      <td>Josh Brolin</td>\n",
       "      <td>1527274096</td>\n",
       "    </tr>\n",
       "    <tr>\n",
       "      <th>233188</th>\n",
       "      <td>187593</td>\n",
       "      <td>Deadpool 2 (2018)</td>\n",
       "      <td>Action|Comedy|Sci-Fi</td>\n",
       "      <td>338</td>\n",
       "      <td>1.0</td>\n",
       "      <td>1530148465</td>\n",
       "      <td>62</td>\n",
       "      <td>Ryan Reynolds</td>\n",
       "      <td>1527274092</td>\n",
       "    </tr>\n",
       "    <tr>\n",
       "      <th>233189</th>\n",
       "      <td>187593</td>\n",
       "      <td>Deadpool 2 (2018)</td>\n",
       "      <td>Action|Comedy|Sci-Fi</td>\n",
       "      <td>338</td>\n",
       "      <td>1.0</td>\n",
       "      <td>1530148465</td>\n",
       "      <td>62</td>\n",
       "      <td>sarcasm</td>\n",
       "      <td>1527274090</td>\n",
       "    </tr>\n",
       "  </tbody>\n",
       "</table>\n",
       "<p>5629 rows × 9 columns</p>\n",
       "</div>"
      ],
      "text/plain": [
       "        movieId               title  \\\n",
       "78            1    Toy Story (1995)   \n",
       "79            1    Toy Story (1995)   \n",
       "80            1    Toy Story (1995)   \n",
       "741           2      Jumanji (1995)   \n",
       "742           2      Jumanji (1995)   \n",
       "...         ...                 ...   \n",
       "233155   184471  Tomb Raider (2018)   \n",
       "233156   184471  Tomb Raider (2018)   \n",
       "233187   187593   Deadpool 2 (2018)   \n",
       "233188   187593   Deadpool 2 (2018)   \n",
       "233189   187593   Deadpool 2 (2018)   \n",
       "\n",
       "                                             genres  userId_rating  rating  \\\n",
       "78      Adventure|Animation|Children|Comedy|Fantasy             76     0.5   \n",
       "79      Adventure|Animation|Children|Comedy|Fantasy             76     0.5   \n",
       "80      Adventure|Animation|Children|Comedy|Fantasy             76     0.5   \n",
       "741                      Adventure|Children|Fantasy            149     1.0   \n",
       "742                      Adventure|Children|Fantasy            149     1.0   \n",
       "...                                             ...            ...     ...   \n",
       "233155                     Action|Adventure|Fantasy            153     0.5   \n",
       "233156                     Action|Adventure|Fantasy            153     0.5   \n",
       "233187                         Action|Comedy|Sci-Fi            338     1.0   \n",
       "233188                         Action|Comedy|Sci-Fi            338     1.0   \n",
       "233189                         Action|Comedy|Sci-Fi            338     1.0   \n",
       "\n",
       "        timestamp_rating  userId_tag                    tag  timestamp_tag  \n",
       "78            1439165548         336                  pixar     1139045764  \n",
       "79            1439165548         474                  pixar     1137206825  \n",
       "80            1439165548         567                    fun     1525286013  \n",
       "741            902084874          62                fantasy     1528843929  \n",
       "742            902084874          62       magic board game     1528843932  \n",
       "...                  ...         ...                    ...            ...  \n",
       "233155        1525553051          62        Alicia Vikander     1528024914  \n",
       "233156        1525553051          62  video game adaptation     1528024898  \n",
       "233187        1530148465          62            Josh Brolin     1527274096  \n",
       "233188        1530148465          62          Ryan Reynolds     1527274092  \n",
       "233189        1530148465          62                sarcasm     1527274090  \n",
       "\n",
       "[5629 rows x 9 columns]"
      ]
     },
     "execution_count": 12,
     "metadata": {},
     "output_type": "execute_result"
    }
   ],
   "source": [
    "# check for outliers in the dataset\n",
    "Q1 = df_merge['rating'].quantile(0.25)\n",
    "Q3 = df_merge['rating'].quantile(0.75)\n",
    "IQR = Q3 - Q1\n",
    "\n",
    "lower_bound = Q1 - 1.5 * IQR\n",
    "upper_bound = Q3 + 1.5 * IQR\n",
    "\n",
    "# Identify outliers\n",
    "outliers = df_merge[(df_merge['rating'] < lower_bound) | (df_merge['rating'] > upper_bound)]\n",
    "outliers"
   ]
  },
  {
   "cell_type": "code",
   "execution_count": 13,
   "metadata": {
    "colab": {
     "base_uri": "https://localhost:8080/"
    },
    "executionInfo": {
     "elapsed": 9,
     "status": "ok",
     "timestamp": 1744828584588,
     "user": {
      "displayName": "Maureen Ngahu",
      "userId": "08681592930822732414"
     },
     "user_tz": -180
    },
    "id": "9cUMtfH0cL5y",
    "outputId": "46399846-5b7c-4dda-db77-896097d30cdd"
   },
   "outputs": [
    {
     "data": {
      "text/plain": [
       "(233213, 9)"
      ]
     },
     "execution_count": 13,
     "metadata": {},
     "output_type": "execute_result"
    }
   ],
   "source": [
    "df_merge.shape"
   ]
  },
  {
   "cell_type": "code",
   "execution_count": 14,
   "metadata": {
    "colab": {
     "base_uri": "https://localhost:8080/",
     "height": 429
    },
    "executionInfo": {
     "elapsed": 32,
     "status": "ok",
     "timestamp": 1744828584621,
     "user": {
      "displayName": "Maureen Ngahu",
      "userId": "08681592930822732414"
     },
     "user_tz": -180
    },
    "id": "dR-R0KBCkg5s",
    "outputId": "88ad26e2-aa4c-4280-a03c-3fd645d12fda"
   },
   "outputs": [
    {
     "data": {
      "text/plain": [
       "4.0    64781\n",
       "5.0    63845\n",
       "4.5    31502\n",
       "3.0    28550\n",
       "3.5    22895\n",
       "2.0     7955\n",
       "2.5     6488\n",
       "1.0     3721\n",
       "0.5     1908\n",
       "1.5     1568\n",
       "Name: rating, dtype: int64"
      ]
     },
     "execution_count": 14,
     "metadata": {},
     "output_type": "execute_result"
    }
   ],
   "source": [
    "# checking total count per rating\n",
    "df_merge['rating'].value_counts()"
   ]
  },
  {
   "cell_type": "code",
   "execution_count": 15,
   "metadata": {
    "colab": {
     "base_uri": "https://localhost:8080/",
     "height": 564
    },
    "executionInfo": {
     "elapsed": 615,
     "status": "ok",
     "timestamp": 1744828585235,
     "user": {
      "displayName": "Maureen Ngahu",
      "userId": "08681592930822732414"
     },
     "user_tz": -180
    },
    "id": "sWxt48-Zizwu",
    "outputId": "8c0a0ae3-1837-4dfd-8451-dd1f8c3fb518"
   },
   "outputs": [
    {
     "data": {
      "image/png": "[encoded data removed]",
      "text/plain": [
       "<Figure size 720x432 with 1 Axes>"
      ]
     },
     "metadata": {
      "needs_background": "light"
     },
     "output_type": "display_data"
    }
   ],
   "source": [
    "# visualize the counts\n",
    "plt.figure(figsize=(10, 6))\n",
    "sns.countplot(x=df_merge['rating'])\n",
    "plt.title('Count of Ratings')\n",
    "plt.xlabel('Rating')\n",
    "plt.ylabel('Count')\n",
    "plt.show()"
   ]
  },
  {
   "cell_type": "code",
   "execution_count": 16,
   "metadata": {
    "colab": {
     "base_uri": "https://localhost:8080/",
     "height": 564
    },
    "executionInfo": {
     "elapsed": 451,
     "status": "ok",
     "timestamp": 1744828585687,
     "user": {
      "displayName": "Maureen Ngahu",
      "userId": "08681592930822732414"
     },
     "user_tz": -180
    },
    "id": "kr76ac9TZduP",
    "outputId": "604eb4fa-f588-4d96-f0c7-fa2804824aac"
   },
   "outputs": [
    {
     "data": {
      "image/png": "[encoded data removed]",
      "text/plain": [
       "<Figure size 720x432 with 1 Axes>"
      ]
     },
     "metadata": {
      "needs_background": "light"
     },
     "output_type": "display_data"
    }
   ],
   "source": [
    "# plot outliers\n",
    "plt.figure(figsize=(10, 6))\n",
    "sns.boxplot(x=df_merge['rating'])\n",
    "plt.title('Box Plot of Rating')\n",
    "plt.show()"
   ]
  },
  {
   "cell_type": "code",
   "execution_count": 17,
   "metadata": {
    "colab": {
     "base_uri": "https://localhost:8080/",
     "height": 894
    },
    "executionInfo": {
     "elapsed": 64,
     "status": "ok",
     "timestamp": 1744828585752,
     "user": {
      "displayName": "Maureen Ngahu",
      "userId": "08681592930822732414"
     },
     "user_tz": -180
    },
    "id": "7D8TqXBdotOO",
    "outputId": "fc3695b1-e445-4382-f286-7e27f85f833d"
   },
   "outputs": [
    {
     "data": {
      "text/html": [
       "<div>\n",
       "<style scoped>\n",
       "    .dataframe tbody tr th:only-of-type {\n",
       "        vertical-align: middle;\n",
       "    }\n",
       "\n",
       "    .dataframe tbody tr th {\n",
       "        vertical-align: top;\n",
       "    }\n",
       "\n",
       "    .dataframe thead th {\n",
       "        text-align: right;\n",
       "    }\n",
       "</style>\n",
       "<table border=\"1\" class=\"dataframe\">\n",
       "  <thead>\n",
       "    <tr style=\"text-align: right;\">\n",
       "      <th></th>\n",
       "      <th>movieId</th>\n",
       "      <th>title</th>\n",
       "      <th>genres</th>\n",
       "      <th>userId_rating</th>\n",
       "      <th>rating</th>\n",
       "      <th>timestamp_rating</th>\n",
       "      <th>userId_tag</th>\n",
       "      <th>tag</th>\n",
       "      <th>timestamp_tag</th>\n",
       "    </tr>\n",
       "  </thead>\n",
       "  <tbody>\n",
       "    <tr>\n",
       "      <th>0</th>\n",
       "      <td>1</td>\n",
       "      <td>Toy Story (1995)</td>\n",
       "      <td>Adventure|Animation|Children|Comedy|Fantasy</td>\n",
       "      <td>1</td>\n",
       "      <td>4.0</td>\n",
       "      <td>964982703</td>\n",
       "      <td>336</td>\n",
       "      <td>pixar</td>\n",
       "      <td>1139045764</td>\n",
       "    </tr>\n",
       "    <tr>\n",
       "      <th>1</th>\n",
       "      <td>1</td>\n",
       "      <td>Toy Story (1995)</td>\n",
       "      <td>Adventure|Animation|Children|Comedy|Fantasy</td>\n",
       "      <td>1</td>\n",
       "      <td>4.0</td>\n",
       "      <td>964982703</td>\n",
       "      <td>474</td>\n",
       "      <td>pixar</td>\n",
       "      <td>1137206825</td>\n",
       "    </tr>\n",
       "    <tr>\n",
       "      <th>2</th>\n",
       "      <td>1</td>\n",
       "      <td>Toy Story (1995)</td>\n",
       "      <td>Adventure|Animation|Children|Comedy|Fantasy</td>\n",
       "      <td>1</td>\n",
       "      <td>4.0</td>\n",
       "      <td>964982703</td>\n",
       "      <td>567</td>\n",
       "      <td>fun</td>\n",
       "      <td>1525286013</td>\n",
       "    </tr>\n",
       "    <tr>\n",
       "      <th>3</th>\n",
       "      <td>1</td>\n",
       "      <td>Toy Story (1995)</td>\n",
       "      <td>Adventure|Animation|Children|Comedy|Fantasy</td>\n",
       "      <td>5</td>\n",
       "      <td>4.0</td>\n",
       "      <td>847434962</td>\n",
       "      <td>336</td>\n",
       "      <td>pixar</td>\n",
       "      <td>1139045764</td>\n",
       "    </tr>\n",
       "    <tr>\n",
       "      <th>4</th>\n",
       "      <td>1</td>\n",
       "      <td>Toy Story (1995)</td>\n",
       "      <td>Adventure|Animation|Children|Comedy|Fantasy</td>\n",
       "      <td>5</td>\n",
       "      <td>4.0</td>\n",
       "      <td>847434962</td>\n",
       "      <td>474</td>\n",
       "      <td>pixar</td>\n",
       "      <td>1137206825</td>\n",
       "    </tr>\n",
       "    <tr>\n",
       "      <th>...</th>\n",
       "      <td>...</td>\n",
       "      <td>...</td>\n",
       "      <td>...</td>\n",
       "      <td>...</td>\n",
       "      <td>...</td>\n",
       "      <td>...</td>\n",
       "      <td>...</td>\n",
       "      <td>...</td>\n",
       "      <td>...</td>\n",
       "    </tr>\n",
       "    <tr>\n",
       "      <th>233208</th>\n",
       "      <td>187595</td>\n",
       "      <td>Solo: A Star Wars Story (2018)</td>\n",
       "      <td>Action|Adventure|Children|Sci-Fi</td>\n",
       "      <td>586</td>\n",
       "      <td>5.0</td>\n",
       "      <td>1529899556</td>\n",
       "      <td>62</td>\n",
       "      <td>star wars</td>\n",
       "      <td>1528934552</td>\n",
       "    </tr>\n",
       "    <tr>\n",
       "      <th>233209</th>\n",
       "      <td>193565</td>\n",
       "      <td>Gintama: The Movie (2010)</td>\n",
       "      <td>Action|Animation|Comedy|Sci-Fi</td>\n",
       "      <td>184</td>\n",
       "      <td>3.5</td>\n",
       "      <td>1537098554</td>\n",
       "      <td>184</td>\n",
       "      <td>anime</td>\n",
       "      <td>1537098582</td>\n",
       "    </tr>\n",
       "    <tr>\n",
       "      <th>233210</th>\n",
       "      <td>193565</td>\n",
       "      <td>Gintama: The Movie (2010)</td>\n",
       "      <td>Action|Animation|Comedy|Sci-Fi</td>\n",
       "      <td>184</td>\n",
       "      <td>3.5</td>\n",
       "      <td>1537098554</td>\n",
       "      <td>184</td>\n",
       "      <td>comedy</td>\n",
       "      <td>1537098587</td>\n",
       "    </tr>\n",
       "    <tr>\n",
       "      <th>233211</th>\n",
       "      <td>193565</td>\n",
       "      <td>Gintama: The Movie (2010)</td>\n",
       "      <td>Action|Animation|Comedy|Sci-Fi</td>\n",
       "      <td>184</td>\n",
       "      <td>3.5</td>\n",
       "      <td>1537098554</td>\n",
       "      <td>184</td>\n",
       "      <td>gintama</td>\n",
       "      <td>1537098603</td>\n",
       "    </tr>\n",
       "    <tr>\n",
       "      <th>233212</th>\n",
       "      <td>193565</td>\n",
       "      <td>Gintama: The Movie (2010)</td>\n",
       "      <td>Action|Animation|Comedy|Sci-Fi</td>\n",
       "      <td>184</td>\n",
       "      <td>3.5</td>\n",
       "      <td>1537098554</td>\n",
       "      <td>184</td>\n",
       "      <td>remaster</td>\n",
       "      <td>1537098592</td>\n",
       "    </tr>\n",
       "  </tbody>\n",
       "</table>\n",
       "<p>227584 rows × 9 columns</p>\n",
       "</div>"
      ],
      "text/plain": [
       "        movieId                           title  \\\n",
       "0             1                Toy Story (1995)   \n",
       "1             1                Toy Story (1995)   \n",
       "2             1                Toy Story (1995)   \n",
       "3             1                Toy Story (1995)   \n",
       "4             1                Toy Story (1995)   \n",
       "...         ...                             ...   \n",
       "233208   187595  Solo: A Star Wars Story (2018)   \n",
       "233209   193565       Gintama: The Movie (2010)   \n",
       "233210   193565       Gintama: The Movie (2010)   \n",
       "233211   193565       Gintama: The Movie (2010)   \n",
       "233212   193565       Gintama: The Movie (2010)   \n",
       "\n",
       "                                             genres  userId_rating  rating  \\\n",
       "0       Adventure|Animation|Children|Comedy|Fantasy              1     4.0   \n",
       "1       Adventure|Animation|Children|Comedy|Fantasy              1     4.0   \n",
       "2       Adventure|Animation|Children|Comedy|Fantasy              1     4.0   \n",
       "3       Adventure|Animation|Children|Comedy|Fantasy              5     4.0   \n",
       "4       Adventure|Animation|Children|Comedy|Fantasy              5     4.0   \n",
       "...                                             ...            ...     ...   \n",
       "233208             Action|Adventure|Children|Sci-Fi            586     5.0   \n",
       "233209               Action|Animation|Comedy|Sci-Fi            184     3.5   \n",
       "233210               Action|Animation|Comedy|Sci-Fi            184     3.5   \n",
       "233211               Action|Animation|Comedy|Sci-Fi            184     3.5   \n",
       "233212               Action|Animation|Comedy|Sci-Fi            184     3.5   \n",
       "\n",
       "        timestamp_rating  userId_tag        tag  timestamp_tag  \n",
       "0              964982703         336      pixar     1139045764  \n",
       "1              964982703         474      pixar     1137206825  \n",
       "2              964982703         567        fun     1525286013  \n",
       "3              847434962         336      pixar     1139045764  \n",
       "4              847434962         474      pixar     1137206825  \n",
       "...                  ...         ...        ...            ...  \n",
       "233208        1529899556          62  star wars     1528934552  \n",
       "233209        1537098554         184      anime     1537098582  \n",
       "233210        1537098554         184     comedy     1537098587  \n",
       "233211        1537098554         184    gintama     1537098603  \n",
       "233212        1537098554         184   remaster     1537098592  \n",
       "\n",
       "[227584 rows x 9 columns]"
      ]
     },
     "execution_count": 17,
     "metadata": {},
     "output_type": "execute_result"
    }
   ],
   "source": [
    "# remove outliers\n",
    "df_merge_cleaned = df_merge[(df_merge['rating'] >= lower_bound) & (df_merge['rating'] <= upper_bound)]\n",
    "df_merge_cleaned"
   ]
  },
  {
   "cell_type": "code",
   "execution_count": 18,
   "metadata": {
    "colab": {
     "base_uri": "https://localhost:8080/",
     "height": 564
    },
    "executionInfo": {
     "elapsed": 473,
     "status": "ok",
     "timestamp": 1744828586224,
     "user": {
      "displayName": "Maureen Ngahu",
      "userId": "08681592930822732414"
     },
     "user_tz": -180
    },
    "id": "B_9xt-WmaNdP",
    "outputId": "ea93ab3e-3c23-4662-a34e-82f1c05e688f"
   },
   "outputs": [
    {
     "data": {
      "image/png": "[encoded data removed]",
      "text/plain": [
       "<Figure size 720x432 with 1 Axes>"
      ]
     },
     "metadata": {
      "needs_background": "light"
     },
     "output_type": "display_data"
    }
   ],
   "source": [
    "# plot the cleaned dataset\n",
    "plt.figure(figsize=(10, 6))\n",
    "sns.boxplot(x=df_merge_cleaned['rating'])\n",
    "plt.title('Box Plot of Rating')\n",
    "plt.show()"
   ]
  },
  {
   "cell_type": "code",
   "execution_count": 19,
   "metadata": {
    "colab": {
     "base_uri": "https://localhost:8080/"
    },
    "executionInfo": {
     "elapsed": 8,
     "status": "ok",
     "timestamp": 1744828586233,
     "user": {
      "displayName": "Maureen Ngahu",
      "userId": "08681592930822732414"
     },
     "user_tz": -180
    },
    "id": "ScnBjxuAbnLw",
    "outputId": "6192812e-c50e-4f2f-c7ad-513485b0d230"
   },
   "outputs": [
    {
     "data": {
      "text/plain": [
       "(227584, 9)"
      ]
     },
     "execution_count": 19,
     "metadata": {},
     "output_type": "execute_result"
    }
   ],
   "source": [
    "df_merge_cleaned.shape"
   ]
  },
  {
   "cell_type": "code",
   "execution_count": 20,
   "metadata": {
    "colab": {
     "base_uri": "https://localhost:8080/",
     "height": 894
    },
    "executionInfo": {
     "elapsed": 52,
     "status": "ok",
     "timestamp": 1744828586287,
     "user": {
      "displayName": "Maureen Ngahu",
      "userId": "08681592930822732414"
     },
     "user_tz": -180
    },
    "id": "qJLXOptiUDLO",
    "outputId": "a49013d1-7030-4db6-a34f-48d765ab1462"
   },
   "outputs": [
    {
     "data": {
      "text/html": [
       "<div>\n",
       "<style scoped>\n",
       "    .dataframe tbody tr th:only-of-type {\n",
       "        vertical-align: middle;\n",
       "    }\n",
       "\n",
       "    .dataframe tbody tr th {\n",
       "        vertical-align: top;\n",
       "    }\n",
       "\n",
       "    .dataframe thead th {\n",
       "        text-align: right;\n",
       "    }\n",
       "</style>\n",
       "<table border=\"1\" class=\"dataframe\">\n",
       "  <thead>\n",
       "    <tr style=\"text-align: right;\">\n",
       "      <th></th>\n",
       "      <th>movieId</th>\n",
       "      <th>title</th>\n",
       "      <th>genres</th>\n",
       "      <th>userId_rating</th>\n",
       "      <th>rating</th>\n",
       "      <th>timestamp_rating</th>\n",
       "      <th>userId_tag</th>\n",
       "      <th>tag</th>\n",
       "      <th>timestamp_tag</th>\n",
       "    </tr>\n",
       "  </thead>\n",
       "  <tbody>\n",
       "    <tr>\n",
       "      <th>0</th>\n",
       "      <td>1</td>\n",
       "      <td>Toy Story (1995)</td>\n",
       "      <td>Adventure|Animation|Children|Comedy|Fantasy</td>\n",
       "      <td>1</td>\n",
       "      <td>4.0</td>\n",
       "      <td>2000-07-30 18:45:03</td>\n",
       "      <td>336</td>\n",
       "      <td>pixar</td>\n",
       "      <td>2006-02-04 09:36:04</td>\n",
       "    </tr>\n",
       "    <tr>\n",
       "      <th>1</th>\n",
       "      <td>1</td>\n",
       "      <td>Toy Story (1995)</td>\n",
       "      <td>Adventure|Animation|Children|Comedy|Fantasy</td>\n",
       "      <td>1</td>\n",
       "      <td>4.0</td>\n",
       "      <td>2000-07-30 18:45:03</td>\n",
       "      <td>474</td>\n",
       "      <td>pixar</td>\n",
       "      <td>2006-01-14 02:47:05</td>\n",
       "    </tr>\n",
       "    <tr>\n",
       "      <th>2</th>\n",
       "      <td>1</td>\n",
       "      <td>Toy Story (1995)</td>\n",
       "      <td>Adventure|Animation|Children|Comedy|Fantasy</td>\n",
       "      <td>1</td>\n",
       "      <td>4.0</td>\n",
       "      <td>2000-07-30 18:45:03</td>\n",
       "      <td>567</td>\n",
       "      <td>fun</td>\n",
       "      <td>2018-05-02 18:33:33</td>\n",
       "    </tr>\n",
       "    <tr>\n",
       "      <th>3</th>\n",
       "      <td>1</td>\n",
       "      <td>Toy Story (1995)</td>\n",
       "      <td>Adventure|Animation|Children|Comedy|Fantasy</td>\n",
       "      <td>5</td>\n",
       "      <td>4.0</td>\n",
       "      <td>1996-11-08 06:36:02</td>\n",
       "      <td>336</td>\n",
       "      <td>pixar</td>\n",
       "      <td>2006-02-04 09:36:04</td>\n",
       "    </tr>\n",
       "    <tr>\n",
       "      <th>4</th>\n",
       "      <td>1</td>\n",
       "      <td>Toy Story (1995)</td>\n",
       "      <td>Adventure|Animation|Children|Comedy|Fantasy</td>\n",
       "      <td>5</td>\n",
       "      <td>4.0</td>\n",
       "      <td>1996-11-08 06:36:02</td>\n",
       "      <td>474</td>\n",
       "      <td>pixar</td>\n",
       "      <td>2006-01-14 02:47:05</td>\n",
       "    </tr>\n",
       "    <tr>\n",
       "      <th>...</th>\n",
       "      <td>...</td>\n",
       "      <td>...</td>\n",
       "      <td>...</td>\n",
       "      <td>...</td>\n",
       "      <td>...</td>\n",
       "      <td>...</td>\n",
       "      <td>...</td>\n",
       "      <td>...</td>\n",
       "      <td>...</td>\n",
       "    </tr>\n",
       "    <tr>\n",
       "      <th>233208</th>\n",
       "      <td>187595</td>\n",
       "      <td>Solo: A Star Wars Story (2018)</td>\n",
       "      <td>Action|Adventure|Children|Sci-Fi</td>\n",
       "      <td>586</td>\n",
       "      <td>5.0</td>\n",
       "      <td>2018-06-25 04:05:56</td>\n",
       "      <td>62</td>\n",
       "      <td>star wars</td>\n",
       "      <td>2018-06-14 00:02:32</td>\n",
       "    </tr>\n",
       "    <tr>\n",
       "      <th>233209</th>\n",
       "      <td>193565</td>\n",
       "      <td>Gintama: The Movie (2010)</td>\n",
       "      <td>Action|Animation|Comedy|Sci-Fi</td>\n",
       "      <td>184</td>\n",
       "      <td>3.5</td>\n",
       "      <td>2018-09-16 11:49:14</td>\n",
       "      <td>184</td>\n",
       "      <td>anime</td>\n",
       "      <td>2018-09-16 11:49:42</td>\n",
       "    </tr>\n",
       "    <tr>\n",
       "      <th>233210</th>\n",
       "      <td>193565</td>\n",
       "      <td>Gintama: The Movie (2010)</td>\n",
       "      <td>Action|Animation|Comedy|Sci-Fi</td>\n",
       "      <td>184</td>\n",
       "      <td>3.5</td>\n",
       "      <td>2018-09-16 11:49:14</td>\n",
       "      <td>184</td>\n",
       "      <td>comedy</td>\n",
       "      <td>2018-09-16 11:49:47</td>\n",
       "    </tr>\n",
       "    <tr>\n",
       "      <th>233211</th>\n",
       "      <td>193565</td>\n",
       "      <td>Gintama: The Movie (2010)</td>\n",
       "      <td>Action|Animation|Comedy|Sci-Fi</td>\n",
       "      <td>184</td>\n",
       "      <td>3.5</td>\n",
       "      <td>2018-09-16 11:49:14</td>\n",
       "      <td>184</td>\n",
       "      <td>gintama</td>\n",
       "      <td>2018-09-16 11:50:03</td>\n",
       "    </tr>\n",
       "    <tr>\n",
       "      <th>233212</th>\n",
       "      <td>193565</td>\n",
       "      <td>Gintama: The Movie (2010)</td>\n",
       "      <td>Action|Animation|Comedy|Sci-Fi</td>\n",
       "      <td>184</td>\n",
       "      <td>3.5</td>\n",
       "      <td>2018-09-16 11:49:14</td>\n",
       "      <td>184</td>\n",
       "      <td>remaster</td>\n",
       "      <td>2018-09-16 11:49:52</td>\n",
       "    </tr>\n",
       "  </tbody>\n",
       "</table>\n",
       "<p>227584 rows × 9 columns</p>\n",
       "</div>"
      ],
      "text/plain": [
       "        movieId                           title  \\\n",
       "0             1                Toy Story (1995)   \n",
       "1             1                Toy Story (1995)   \n",
       "2             1                Toy Story (1995)   \n",
       "3             1                Toy Story (1995)   \n",
       "4             1                Toy Story (1995)   \n",
       "...         ...                             ...   \n",
       "233208   187595  Solo: A Star Wars Story (2018)   \n",
       "233209   193565       Gintama: The Movie (2010)   \n",
       "233210   193565       Gintama: The Movie (2010)   \n",
       "233211   193565       Gintama: The Movie (2010)   \n",
       "233212   193565       Gintama: The Movie (2010)   \n",
       "\n",
       "                                             genres  userId_rating  rating  \\\n",
       "0       Adventure|Animation|Children|Comedy|Fantasy              1     4.0   \n",
       "1       Adventure|Animation|Children|Comedy|Fantasy              1     4.0   \n",
       "2       Adventure|Animation|Children|Comedy|Fantasy              1     4.0   \n",
       "3       Adventure|Animation|Children|Comedy|Fantasy              5     4.0   \n",
       "4       Adventure|Animation|Children|Comedy|Fantasy              5     4.0   \n",
       "...                                             ...            ...     ...   \n",
       "233208             Action|Adventure|Children|Sci-Fi            586     5.0   \n",
       "233209               Action|Animation|Comedy|Sci-Fi            184     3.5   \n",
       "233210               Action|Animation|Comedy|Sci-Fi            184     3.5   \n",
       "233211               Action|Animation|Comedy|Sci-Fi            184     3.5   \n",
       "233212               Action|Animation|Comedy|Sci-Fi            184     3.5   \n",
       "\n",
       "          timestamp_rating  userId_tag        tag       timestamp_tag  \n",
       "0      2000-07-30 18:45:03         336      pixar 2006-02-04 09:36:04  \n",
       "1      2000-07-30 18:45:03         474      pixar 2006-01-14 02:47:05  \n",
       "2      2000-07-30 18:45:03         567        fun 2018-05-02 18:33:33  \n",
       "3      1996-11-08 06:36:02         336      pixar 2006-02-04 09:36:04  \n",
       "4      1996-11-08 06:36:02         474      pixar 2006-01-14 02:47:05  \n",
       "...                    ...         ...        ...                 ...  \n",
       "233208 2018-06-25 04:05:56          62  star wars 2018-06-14 00:02:32  \n",
       "233209 2018-09-16 11:49:14         184      anime 2018-09-16 11:49:42  \n",
       "233210 2018-09-16 11:49:14         184     comedy 2018-09-16 11:49:47  \n",
       "233211 2018-09-16 11:49:14         184    gintama 2018-09-16 11:50:03  \n",
       "233212 2018-09-16 11:49:14         184   remaster 2018-09-16 11:49:52  \n",
       "\n",
       "[227584 rows x 9 columns]"
      ]
     },
     "execution_count": 20,
     "metadata": {},
     "output_type": "execute_result"
    }
   ],
   "source": [
    "# convert timestamp to datetime format\n",
    "df_merge_cleaned['timestamp_rating'] = pd.to_datetime(df_merge_cleaned['timestamp_rating'], unit='s', errors='coerce')\n",
    "df_merge_cleaned['timestamp_tag'] = pd.to_datetime(df_merge_cleaned['timestamp_tag'], unit='s', errors='coerce')\n",
    "df_merge_cleaned"
   ]
  },
  {
   "cell_type": "code",
   "execution_count": 21,
   "metadata": {
    "colab": {
     "base_uri": "https://localhost:8080/",
     "height": 721
    },
    "executionInfo": {
     "elapsed": 811,
     "status": "ok",
     "timestamp": 1744828587099,
     "user": {
      "displayName": "Maureen Ngahu",
      "userId": "08681592930822732414"
     },
     "user_tz": -180
    },
    "id": "MzYgpXiJW5pK",
    "outputId": "c309af68-b0bb-42e7-d5bc-df64a6aab5e9"
   },
   "outputs": [
    {
     "data": {
      "text/html": [
       "<div>\n",
       "<style scoped>\n",
       "    .dataframe tbody tr th:only-of-type {\n",
       "        vertical-align: middle;\n",
       "    }\n",
       "\n",
       "    .dataframe tbody tr th {\n",
       "        vertical-align: top;\n",
       "    }\n",
       "\n",
       "    .dataframe thead th {\n",
       "        text-align: right;\n",
       "    }\n",
       "</style>\n",
       "<table border=\"1\" class=\"dataframe\">\n",
       "  <thead>\n",
       "    <tr style=\"text-align: right;\">\n",
       "      <th></th>\n",
       "      <th>movieId</th>\n",
       "      <th>title</th>\n",
       "      <th>genres</th>\n",
       "      <th>userId_rating</th>\n",
       "      <th>rating</th>\n",
       "      <th>timestamp_rating</th>\n",
       "      <th>userId_tag</th>\n",
       "      <th>tag</th>\n",
       "      <th>timestamp_tag</th>\n",
       "      <th>year</th>\n",
       "    </tr>\n",
       "  </thead>\n",
       "  <tbody>\n",
       "    <tr>\n",
       "      <th>0</th>\n",
       "      <td>1</td>\n",
       "      <td>Toy Story</td>\n",
       "      <td>Adventure|Animation|Children|Comedy|Fantasy</td>\n",
       "      <td>1</td>\n",
       "      <td>4.0</td>\n",
       "      <td>2000-07-30 18:45:03</td>\n",
       "      <td>336</td>\n",
       "      <td>pixar</td>\n",
       "      <td>2006-02-04 09:36:04</td>\n",
       "      <td>1995</td>\n",
       "    </tr>\n",
       "    <tr>\n",
       "      <th>1</th>\n",
       "      <td>1</td>\n",
       "      <td>Toy Story</td>\n",
       "      <td>Adventure|Animation|Children|Comedy|Fantasy</td>\n",
       "      <td>1</td>\n",
       "      <td>4.0</td>\n",
       "      <td>2000-07-30 18:45:03</td>\n",
       "      <td>474</td>\n",
       "      <td>pixar</td>\n",
       "      <td>2006-01-14 02:47:05</td>\n",
       "      <td>1995</td>\n",
       "    </tr>\n",
       "    <tr>\n",
       "      <th>2</th>\n",
       "      <td>1</td>\n",
       "      <td>Toy Story</td>\n",
       "      <td>Adventure|Animation|Children|Comedy|Fantasy</td>\n",
       "      <td>1</td>\n",
       "      <td>4.0</td>\n",
       "      <td>2000-07-30 18:45:03</td>\n",
       "      <td>567</td>\n",
       "      <td>fun</td>\n",
       "      <td>2018-05-02 18:33:33</td>\n",
       "      <td>1995</td>\n",
       "    </tr>\n",
       "    <tr>\n",
       "      <th>3</th>\n",
       "      <td>1</td>\n",
       "      <td>Toy Story</td>\n",
       "      <td>Adventure|Animation|Children|Comedy|Fantasy</td>\n",
       "      <td>5</td>\n",
       "      <td>4.0</td>\n",
       "      <td>1996-11-08 06:36:02</td>\n",
       "      <td>336</td>\n",
       "      <td>pixar</td>\n",
       "      <td>2006-02-04 09:36:04</td>\n",
       "      <td>1995</td>\n",
       "    </tr>\n",
       "    <tr>\n",
       "      <th>4</th>\n",
       "      <td>1</td>\n",
       "      <td>Toy Story</td>\n",
       "      <td>Adventure|Animation|Children|Comedy|Fantasy</td>\n",
       "      <td>5</td>\n",
       "      <td>4.0</td>\n",
       "      <td>1996-11-08 06:36:02</td>\n",
       "      <td>474</td>\n",
       "      <td>pixar</td>\n",
       "      <td>2006-01-14 02:47:05</td>\n",
       "      <td>1995</td>\n",
       "    </tr>\n",
       "    <tr>\n",
       "      <th>...</th>\n",
       "      <td>...</td>\n",
       "      <td>...</td>\n",
       "      <td>...</td>\n",
       "      <td>...</td>\n",
       "      <td>...</td>\n",
       "      <td>...</td>\n",
       "      <td>...</td>\n",
       "      <td>...</td>\n",
       "      <td>...</td>\n",
       "      <td>...</td>\n",
       "    </tr>\n",
       "    <tr>\n",
       "      <th>233208</th>\n",
       "      <td>187595</td>\n",
       "      <td>Solo: A Star Wars Story</td>\n",
       "      <td>Action|Adventure|Children|Sci-Fi</td>\n",
       "      <td>586</td>\n",
       "      <td>5.0</td>\n",
       "      <td>2018-06-25 04:05:56</td>\n",
       "      <td>62</td>\n",
       "      <td>star wars</td>\n",
       "      <td>2018-06-14 00:02:32</td>\n",
       "      <td>2018</td>\n",
       "    </tr>\n",
       "    <tr>\n",
       "      <th>233209</th>\n",
       "      <td>193565</td>\n",
       "      <td>Gintama: The Movie</td>\n",
       "      <td>Action|Animation|Comedy|Sci-Fi</td>\n",
       "      <td>184</td>\n",
       "      <td>3.5</td>\n",
       "      <td>2018-09-16 11:49:14</td>\n",
       "      <td>184</td>\n",
       "      <td>anime</td>\n",
       "      <td>2018-09-16 11:49:42</td>\n",
       "      <td>2010</td>\n",
       "    </tr>\n",
       "    <tr>\n",
       "      <th>233210</th>\n",
       "      <td>193565</td>\n",
       "      <td>Gintama: The Movie</td>\n",
       "      <td>Action|Animation|Comedy|Sci-Fi</td>\n",
       "      <td>184</td>\n",
       "      <td>3.5</td>\n",
       "      <td>2018-09-16 11:49:14</td>\n",
       "      <td>184</td>\n",
       "      <td>comedy</td>\n",
       "      <td>2018-09-16 11:49:47</td>\n",
       "      <td>2010</td>\n",
       "    </tr>\n",
       "    <tr>\n",
       "      <th>233211</th>\n",
       "      <td>193565</td>\n",
       "      <td>Gintama: The Movie</td>\n",
       "      <td>Action|Animation|Comedy|Sci-Fi</td>\n",
       "      <td>184</td>\n",
       "      <td>3.5</td>\n",
       "      <td>2018-09-16 11:49:14</td>\n",
       "      <td>184</td>\n",
       "      <td>gintama</td>\n",
       "      <td>2018-09-16 11:50:03</td>\n",
       "      <td>2010</td>\n",
       "    </tr>\n",
       "    <tr>\n",
       "      <th>233212</th>\n",
       "      <td>193565</td>\n",
       "      <td>Gintama: The Movie</td>\n",
       "      <td>Action|Animation|Comedy|Sci-Fi</td>\n",
       "      <td>184</td>\n",
       "      <td>3.5</td>\n",
       "      <td>2018-09-16 11:49:14</td>\n",
       "      <td>184</td>\n",
       "      <td>remaster</td>\n",
       "      <td>2018-09-16 11:49:52</td>\n",
       "      <td>2010</td>\n",
       "    </tr>\n",
       "  </tbody>\n",
       "</table>\n",
       "<p>227584 rows × 10 columns</p>\n",
       "</div>"
      ],
      "text/plain": [
       "        movieId                    title  \\\n",
       "0             1                Toy Story   \n",
       "1             1                Toy Story   \n",
       "2             1                Toy Story   \n",
       "3             1                Toy Story   \n",
       "4             1                Toy Story   \n",
       "...         ...                      ...   \n",
       "233208   187595  Solo: A Star Wars Story   \n",
       "233209   193565       Gintama: The Movie   \n",
       "233210   193565       Gintama: The Movie   \n",
       "233211   193565       Gintama: The Movie   \n",
       "233212   193565       Gintama: The Movie   \n",
       "\n",
       "                                             genres  userId_rating  rating  \\\n",
       "0       Adventure|Animation|Children|Comedy|Fantasy              1     4.0   \n",
       "1       Adventure|Animation|Children|Comedy|Fantasy              1     4.0   \n",
       "2       Adventure|Animation|Children|Comedy|Fantasy              1     4.0   \n",
       "3       Adventure|Animation|Children|Comedy|Fantasy              5     4.0   \n",
       "4       Adventure|Animation|Children|Comedy|Fantasy              5     4.0   \n",
       "...                                             ...            ...     ...   \n",
       "233208             Action|Adventure|Children|Sci-Fi            586     5.0   \n",
       "233209               Action|Animation|Comedy|Sci-Fi            184     3.5   \n",
       "233210               Action|Animation|Comedy|Sci-Fi            184     3.5   \n",
       "233211               Action|Animation|Comedy|Sci-Fi            184     3.5   \n",
       "233212               Action|Animation|Comedy|Sci-Fi            184     3.5   \n",
       "\n",
       "          timestamp_rating  userId_tag        tag       timestamp_tag  year  \n",
       "0      2000-07-30 18:45:03         336      pixar 2006-02-04 09:36:04  1995  \n",
       "1      2000-07-30 18:45:03         474      pixar 2006-01-14 02:47:05  1995  \n",
       "2      2000-07-30 18:45:03         567        fun 2018-05-02 18:33:33  1995  \n",
       "3      1996-11-08 06:36:02         336      pixar 2006-02-04 09:36:04  1995  \n",
       "4      1996-11-08 06:36:02         474      pixar 2006-01-14 02:47:05  1995  \n",
       "...                    ...         ...        ...                 ...   ...  \n",
       "233208 2018-06-25 04:05:56          62  star wars 2018-06-14 00:02:32  2018  \n",
       "233209 2018-09-16 11:49:14         184      anime 2018-09-16 11:49:42  2010  \n",
       "233210 2018-09-16 11:49:14         184     comedy 2018-09-16 11:49:47  2010  \n",
       "233211 2018-09-16 11:49:14         184    gintama 2018-09-16 11:50:03  2010  \n",
       "233212 2018-09-16 11:49:14         184   remaster 2018-09-16 11:49:52  2010  \n",
       "\n",
       "[227584 rows x 10 columns]"
      ]
     },
     "execution_count": 21,
     "metadata": {},
     "output_type": "execute_result"
    }
   ],
   "source": [
    "# create new column from title by removing year of release from movie name\n",
    "df_merge_cleaned['year'] = df_merge_cleaned['title'].str.extract(r'\\((\\d{4})\\)')\n",
    "df_merge_cleaned['title'] = df_merge_cleaned['title'].str.replace(r'\\s*\\(\\d{4}\\)$', '', regex=True)\n",
    "df_merge_cleaned"
   ]
  },
  {
   "cell_type": "code",
   "execution_count": null,
   "metadata": {
    "id": "MdLN5dxsZZ7c"
   },
   "outputs": [],
   "source": []
  },
  {
   "cell_type": "code",
   "execution_count": 22,
   "metadata": {
    "colab": {
     "base_uri": "https://localhost:8080/",
     "height": 597
    },
    "executionInfo": {
     "elapsed": 1185,
     "status": "ok",
     "timestamp": 1744828588289,
     "user": {
      "displayName": "Maureen Ngahu",
      "userId": "08681592930822732414"
     },
     "user_tz": -180
    },
    "id": "vBryCZ8ihmbm",
    "outputId": "de11996c-af0c-4daf-eeea-9d12adab12cc"
   },
   "outputs": [
    {
     "data": {
      "text/html": [
       "<div>\n",
       "<style scoped>\n",
       "    .dataframe tbody tr th:only-of-type {\n",
       "        vertical-align: middle;\n",
       "    }\n",
       "\n",
       "    .dataframe tbody tr th {\n",
       "        vertical-align: top;\n",
       "    }\n",
       "\n",
       "    .dataframe thead th {\n",
       "        text-align: right;\n",
       "    }\n",
       "</style>\n",
       "<table border=\"1\" class=\"dataframe\">\n",
       "  <thead>\n",
       "    <tr style=\"text-align: right;\">\n",
       "      <th></th>\n",
       "      <th>movieId</th>\n",
       "      <th>title</th>\n",
       "      <th>genres</th>\n",
       "      <th>userId_rating</th>\n",
       "      <th>rating</th>\n",
       "      <th>timestamp_rating</th>\n",
       "      <th>userId_tag</th>\n",
       "      <th>tag</th>\n",
       "      <th>timestamp_tag</th>\n",
       "      <th>year</th>\n",
       "    </tr>\n",
       "  </thead>\n",
       "  <tbody>\n",
       "    <tr>\n",
       "      <th>0</th>\n",
       "      <td>1</td>\n",
       "      <td>Toy Story</td>\n",
       "      <td>Adventure</td>\n",
       "      <td>1</td>\n",
       "      <td>4.0</td>\n",
       "      <td>2000-07-30 18:45:03</td>\n",
       "      <td>336</td>\n",
       "      <td>pixar</td>\n",
       "      <td>2006-02-04 09:36:04</td>\n",
       "      <td>1995</td>\n",
       "    </tr>\n",
       "    <tr>\n",
       "      <th>1</th>\n",
       "      <td>1</td>\n",
       "      <td>Toy Story</td>\n",
       "      <td>Animation</td>\n",
       "      <td>1</td>\n",
       "      <td>4.0</td>\n",
       "      <td>2000-07-30 18:45:03</td>\n",
       "      <td>336</td>\n",
       "      <td>pixar</td>\n",
       "      <td>2006-02-04 09:36:04</td>\n",
       "      <td>1995</td>\n",
       "    </tr>\n",
       "    <tr>\n",
       "      <th>2</th>\n",
       "      <td>1</td>\n",
       "      <td>Toy Story</td>\n",
       "      <td>Children</td>\n",
       "      <td>1</td>\n",
       "      <td>4.0</td>\n",
       "      <td>2000-07-30 18:45:03</td>\n",
       "      <td>336</td>\n",
       "      <td>pixar</td>\n",
       "      <td>2006-02-04 09:36:04</td>\n",
       "      <td>1995</td>\n",
       "    </tr>\n",
       "    <tr>\n",
       "      <th>3</th>\n",
       "      <td>1</td>\n",
       "      <td>Toy Story</td>\n",
       "      <td>Comedy</td>\n",
       "      <td>1</td>\n",
       "      <td>4.0</td>\n",
       "      <td>2000-07-30 18:45:03</td>\n",
       "      <td>336</td>\n",
       "      <td>pixar</td>\n",
       "      <td>2006-02-04 09:36:04</td>\n",
       "      <td>1995</td>\n",
       "    </tr>\n",
       "    <tr>\n",
       "      <th>4</th>\n",
       "      <td>1</td>\n",
       "      <td>Toy Story</td>\n",
       "      <td>Fantasy</td>\n",
       "      <td>1</td>\n",
       "      <td>4.0</td>\n",
       "      <td>2000-07-30 18:45:03</td>\n",
       "      <td>336</td>\n",
       "      <td>pixar</td>\n",
       "      <td>2006-02-04 09:36:04</td>\n",
       "      <td>1995</td>\n",
       "    </tr>\n",
       "    <tr>\n",
       "      <th>...</th>\n",
       "      <td>...</td>\n",
       "      <td>...</td>\n",
       "      <td>...</td>\n",
       "      <td>...</td>\n",
       "      <td>...</td>\n",
       "      <td>...</td>\n",
       "      <td>...</td>\n",
       "      <td>...</td>\n",
       "      <td>...</td>\n",
       "      <td>...</td>\n",
       "    </tr>\n",
       "    <tr>\n",
       "      <th>747116</th>\n",
       "      <td>193565</td>\n",
       "      <td>Gintama: The Movie</td>\n",
       "      <td>Sci-Fi</td>\n",
       "      <td>184</td>\n",
       "      <td>3.5</td>\n",
       "      <td>2018-09-16 11:49:14</td>\n",
       "      <td>184</td>\n",
       "      <td>gintama</td>\n",
       "      <td>2018-09-16 11:50:03</td>\n",
       "      <td>2010</td>\n",
       "    </tr>\n",
       "    <tr>\n",
       "      <th>747117</th>\n",
       "      <td>193565</td>\n",
       "      <td>Gintama: The Movie</td>\n",
       "      <td>Action</td>\n",
       "      <td>184</td>\n",
       "      <td>3.5</td>\n",
       "      <td>2018-09-16 11:49:14</td>\n",
       "      <td>184</td>\n",
       "      <td>remaster</td>\n",
       "      <td>2018-09-16 11:49:52</td>\n",
       "      <td>2010</td>\n",
       "    </tr>\n",
       "    <tr>\n",
       "      <th>747118</th>\n",
       "      <td>193565</td>\n",
       "      <td>Gintama: The Movie</td>\n",
       "      <td>Animation</td>\n",
       "      <td>184</td>\n",
       "      <td>3.5</td>\n",
       "      <td>2018-09-16 11:49:14</td>\n",
       "      <td>184</td>\n",
       "      <td>remaster</td>\n",
       "      <td>2018-09-16 11:49:52</td>\n",
       "      <td>2010</td>\n",
       "    </tr>\n",
       "    <tr>\n",
       "      <th>747119</th>\n",
       "      <td>193565</td>\n",
       "      <td>Gintama: The Movie</td>\n",
       "      <td>Comedy</td>\n",
       "      <td>184</td>\n",
       "      <td>3.5</td>\n",
       "      <td>2018-09-16 11:49:14</td>\n",
       "      <td>184</td>\n",
       "      <td>remaster</td>\n",
       "      <td>2018-09-16 11:49:52</td>\n",
       "      <td>2010</td>\n",
       "    </tr>\n",
       "    <tr>\n",
       "      <th>747120</th>\n",
       "      <td>193565</td>\n",
       "      <td>Gintama: The Movie</td>\n",
       "      <td>Sci-Fi</td>\n",
       "      <td>184</td>\n",
       "      <td>3.5</td>\n",
       "      <td>2018-09-16 11:49:14</td>\n",
       "      <td>184</td>\n",
       "      <td>remaster</td>\n",
       "      <td>2018-09-16 11:49:52</td>\n",
       "      <td>2010</td>\n",
       "    </tr>\n",
       "  </tbody>\n",
       "</table>\n",
       "<p>747121 rows × 10 columns</p>\n",
       "</div>"
      ],
      "text/plain": [
       "        movieId               title     genres  userId_rating  rating  \\\n",
       "0             1           Toy Story  Adventure              1     4.0   \n",
       "1             1           Toy Story  Animation              1     4.0   \n",
       "2             1           Toy Story   Children              1     4.0   \n",
       "3             1           Toy Story     Comedy              1     4.0   \n",
       "4             1           Toy Story    Fantasy              1     4.0   \n",
       "...         ...                 ...        ...            ...     ...   \n",
       "747116   193565  Gintama: The Movie     Sci-Fi            184     3.5   \n",
       "747117   193565  Gintama: The Movie     Action            184     3.5   \n",
       "747118   193565  Gintama: The Movie  Animation            184     3.5   \n",
       "747119   193565  Gintama: The Movie     Comedy            184     3.5   \n",
       "747120   193565  Gintama: The Movie     Sci-Fi            184     3.5   \n",
       "\n",
       "          timestamp_rating  userId_tag       tag       timestamp_tag  year  \n",
       "0      2000-07-30 18:45:03         336     pixar 2006-02-04 09:36:04  1995  \n",
       "1      2000-07-30 18:45:03         336     pixar 2006-02-04 09:36:04  1995  \n",
       "2      2000-07-30 18:45:03         336     pixar 2006-02-04 09:36:04  1995  \n",
       "3      2000-07-30 18:45:03         336     pixar 2006-02-04 09:36:04  1995  \n",
       "4      2000-07-30 18:45:03         336     pixar 2006-02-04 09:36:04  1995  \n",
       "...                    ...         ...       ...                 ...   ...  \n",
       "747116 2018-09-16 11:49:14         184   gintama 2018-09-16 11:50:03  2010  \n",
       "747117 2018-09-16 11:49:14         184  remaster 2018-09-16 11:49:52  2010  \n",
       "747118 2018-09-16 11:49:14         184  remaster 2018-09-16 11:49:52  2010  \n",
       "747119 2018-09-16 11:49:14         184  remaster 2018-09-16 11:49:52  2010  \n",
       "747120 2018-09-16 11:49:14         184  remaster 2018-09-16 11:49:52  2010  \n",
       "\n",
       "[747121 rows x 10 columns]"
      ]
     },
     "execution_count": 22,
     "metadata": {},
     "output_type": "execute_result"
    }
   ],
   "source": [
    "# Split the 'genres' column by '|', then explode\n",
    "df_exploded = df_merge_cleaned.copy()\n",
    "df_exploded['genres'] = df_exploded['genres'].str.split('|')\n",
    "df_exploded = df_exploded.explode('genres').reset_index(drop=True)\n",
    "df_exploded"
   ]
  },
  {
   "cell_type": "code",
   "execution_count": 23,
   "metadata": {
    "colab": {
     "base_uri": "https://localhost:8080/"
    },
    "executionInfo": {
     "elapsed": 256,
     "status": "ok",
     "timestamp": 1744828588546,
     "user": {
      "displayName": "Maureen Ngahu",
      "userId": "08681592930822732414"
     },
     "user_tz": -180
    },
    "id": "457HG6LlvRAI",
    "outputId": "d60fdf31-8fed-42ab-c1de-0d56d3951da8"
   },
   "outputs": [
    {
     "name": "stdout",
     "output_type": "stream",
     "text": [
      "<class 'pandas.core.frame.DataFrame'>\n",
      "RangeIndex: 747121 entries, 0 to 747120\n",
      "Data columns (total 10 columns):\n",
      " #   Column            Non-Null Count   Dtype         \n",
      "---  ------            --------------   -----         \n",
      " 0   movieId           747121 non-null  int64         \n",
      " 1   title             747121 non-null  object        \n",
      " 2   genres            747121 non-null  object        \n",
      " 3   userId_rating     747121 non-null  int64         \n",
      " 4   rating            747121 non-null  float64       \n",
      " 5   timestamp_rating  747121 non-null  datetime64[ns]\n",
      " 6   userId_tag        747121 non-null  int64         \n",
      " 7   tag               747121 non-null  object        \n",
      " 8   timestamp_tag     747121 non-null  datetime64[ns]\n",
      " 9   year              747118 non-null  datetime64[ns]\n",
      "dtypes: datetime64[ns](3), float64(1), int64(3), object(3)\n",
      "memory usage: 57.0+ MB\n"
     ]
    }
   ],
   "source": [
    "df_exploded['year'] = pd.to_datetime(df_exploded['year'], format='%Y', errors='coerce')\n",
    "df_exploded.info()"
   ]
  },
  {
   "cell_type": "code",
   "execution_count": 24,
   "metadata": {
    "colab": {
     "base_uri": "https://localhost:8080/"
    },
    "executionInfo": {
     "elapsed": 123,
     "status": "ok",
     "timestamp": 1744828588685,
     "user": {
      "displayName": "Maureen Ngahu",
      "userId": "08681592930822732414"
     },
     "user_tz": -180
    },
    "id": "b4ELSoPIng9M",
    "outputId": "9e4c74e9-99d5-413c-c5c4-6dac922a0aa1"
   },
   "outputs": [
    {
     "name": "stdout",
     "output_type": "stream",
     "text": [
      "movieId  1       2       3       4       5       6       7       8       \\\n",
      "userId                                                                    \n",
      "1           4.0     NaN     4.0     NaN     NaN     4.0     NaN     NaN   \n",
      "2           NaN     NaN     NaN     NaN     NaN     NaN     NaN     NaN   \n",
      "3           NaN     NaN     NaN     NaN     NaN     NaN     NaN     NaN   \n",
      "4           NaN     NaN     NaN     NaN     NaN     NaN     NaN     NaN   \n",
      "5           4.0     NaN     NaN     NaN     NaN     NaN     NaN     NaN   \n",
      "\n",
      "movieId  9       10      ...  193565  193567  193571  193573  193579  193581  \\\n",
      "userId                   ...                                                   \n",
      "1           NaN     NaN  ...     NaN     NaN     NaN     NaN     NaN     NaN   \n",
      "2           NaN     NaN  ...     NaN     NaN     NaN     NaN     NaN     NaN   \n",
      "3           NaN     NaN  ...     NaN     NaN     NaN     NaN     NaN     NaN   \n",
      "4           NaN     NaN  ...     NaN     NaN     NaN     NaN     NaN     NaN   \n",
      "5           NaN     NaN  ...     NaN     NaN     NaN     NaN     NaN     NaN   \n",
      "\n",
      "movieId  193583  193585  193587  193609  \n",
      "userId                                   \n",
      "1           NaN     NaN     NaN     NaN  \n",
      "2           NaN     NaN     NaN     NaN  \n",
      "3           NaN     NaN     NaN     NaN  \n",
      "4           NaN     NaN     NaN     NaN  \n",
      "5           NaN     NaN     NaN     NaN  \n",
      "\n",
      "[5 rows x 9724 columns]\n"
     ]
    }
   ],
   "source": [
    "# Create utility matrix (users as rows, movies as columns)\n",
    "utility_matrix = ratings.pivot_table(index='userId', columns='movieId', values='rating')\n",
    "\n",
    "# Show a sample\n",
    "print(utility_matrix.head())"
   ]
  },
  {
   "cell_type": "code",
   "execution_count": 25,
   "metadata": {
    "colab": {
     "base_uri": "https://localhost:8080/",
     "height": 500
    },
    "executionInfo": {
     "elapsed": 8528,
     "status": "ok",
     "timestamp": 1744828597215,
     "user": {
      "displayName": "Maureen Ngahu",
      "userId": "08681592930822732414"
     },
     "user_tz": -180
    },
    "id": "mrMog5Per-J1",
    "outputId": "f3edd3ac-dc9f-42bb-c4d2-9b28e02d18e9"
   },
   "outputs": [
    {
     "data": {
      "image/png": "[encoded data removed]",
      "text/plain": [
       "<Figure size 864x432 with 1 Axes>"
      ]
     },
     "metadata": {
      "needs_background": "light"
     },
     "output_type": "display_data"
    }
   ],
   "source": [
    "# plot size\n",
    "plt.figure(figsize=(12, 6))\n",
    "\n",
    "# Plot missing data (True = missing)\n",
    "sns.heatmap(utility_matrix.isnull(), cbar=False, cmap='viridis')\n",
    "\n",
    "plt.title(\"Missing Ratings in Utility Matrix (User vs. Movie)\")\n",
    "plt.xlabel(\"Movie ID\")\n",
    "plt.ylabel(\"User ID\")\n",
    "plt.tight_layout()\n",
    "plt.show()"
   ]
  },
  {
   "cell_type": "markdown",
   "metadata": {
    "id": "HOWFhuPIJFg_"
   },
   "source": [
    "#Exploratory Data Analysis"
   ]
  },
  {
   "cell_type": "markdown",
   "metadata": {
    "id": "cOdNaHPgCESv"
   },
   "source": [
    "## univariate analysis\n"
   ]
  },
  {
   "cell_type": "code",
   "execution_count": 26,
   "metadata": {
    "colab": {
     "base_uri": "https://localhost:8080/",
     "height": 472
    },
    "executionInfo": {
     "elapsed": 482,
     "status": "ok",
     "timestamp": 1744828597696,
     "user": {
      "displayName": "Maureen Ngahu",
      "userId": "08681592930822732414"
     },
     "user_tz": -180
    },
    "id": "6AZEPKisBDwt",
    "outputId": "604e7de7-2c9a-4510-ffbd-fc64ead3c8ee"
   },
   "outputs": [
    {
     "data": {
      "image/png": "[encoded data removed]",
      "text/plain": [
       "<Figure size 432x288 with 1 Axes>"
      ]
     },
     "metadata": {
      "needs_background": "light"
     },
     "output_type": "display_data"
    }
   ],
   "source": [
    "#\n",
    "sns.histplot(ratings['rating'], bins=9, kde=True)\n",
    "plt.title(\"Distribution of Movie Ratings\")\n",
    "plt.xlabel(\"Rating\")\n",
    "plt.ylabel(\"Frequency\")\n",
    "plt.show()"
   ]
  },
  {
   "cell_type": "code",
   "execution_count": 27,
   "metadata": {
    "colab": {
     "base_uri": "https://localhost:8080/",
     "height": 472
    },
    "executionInfo": {
     "elapsed": 200,
     "status": "ok",
     "timestamp": 1744828597896,
     "user": {
      "displayName": "Maureen Ngahu",
      "userId": "08681592930822732414"
     },
     "user_tz": -180
    },
    "id": "OpItc-n9lNtL",
    "outputId": "fbcf3426-ee7c-4ac6-be31-8b3360e56e9b"
   },
   "outputs": [
    {
     "data": {
      "image/png": "[encoded data removed]",
      "text/plain": [
       "<Figure size 432x288 with 1 Axes>"
      ]
     },
     "metadata": {
      "needs_background": "light"
     },
     "output_type": "display_data"
    }
   ],
   "source": [
    "user_rating_counts = ratings['userId'].value_counts()\n",
    "\n",
    "sns.histplot(user_rating_counts, bins=50, kde=False)\n",
    "plt.title(\"Number of Ratings per User\")\n",
    "plt.xlabel(\"Number of Ratings\")\n",
    "plt.ylabel(\"Number of Users\")\n",
    "plt.show()"
   ]
  },
  {
   "cell_type": "code",
   "execution_count": 28,
   "metadata": {
    "colab": {
     "base_uri": "https://localhost:8080/"
    },
    "executionInfo": {
     "elapsed": 68,
     "status": "ok",
     "timestamp": 1744828597964,
     "user": {
      "displayName": "Maureen Ngahu",
      "userId": "08681592930822732414"
     },
     "user_tz": -180
    },
    "id": "ynyzIRtwmsfQ",
    "outputId": "6bc0a44c-52c8-480c-d005-bd40d2c03d0b"
   },
   "outputs": [
    {
     "name": "stdout",
     "output_type": "stream",
     "text": [
      "(227584, 10)\n"
     ]
    }
   ],
   "source": [
    "# Count number of ratings per user\n",
    "user_rating_counts = df_merge_cleaned['userId_rating'].value_counts()\n",
    "\n",
    "# Keep only users with at least 1 rating (i.e., user_rating_counts > 0 is always true, but it's okay for clarity)\n",
    "active_users = user_rating_counts[user_rating_counts > 0].index\n",
    "\n",
    "# Filter merged dataset to include only those active users\n",
    "ratings_filtered = df_merge_cleaned[df_merge_cleaned['userId_rating'].isin(active_users)]\n",
    "\n",
    "# Check shape or head\n",
    "print(ratings_filtered.shape)"
   ]
  },
  {
   "cell_type": "code",
   "execution_count": 29,
   "metadata": {
    "colab": {
     "base_uri": "https://localhost:8080/",
     "height": 472
    },
    "executionInfo": {
     "elapsed": 426,
     "status": "ok",
     "timestamp": 1744828598391,
     "user": {
      "displayName": "Maureen Ngahu",
      "userId": "08681592930822732414"
     },
     "user_tz": -180
    },
    "id": "goYfpsu9e_Gu",
    "outputId": "814c30fd-da9a-42cb-d008-bc2d1270d158"
   },
   "outputs": [
    {
     "data": {
      "image/png": "[encoded data removed]",
      "text/plain": [
       "<Figure size 432x288 with 1 Axes>"
      ]
     },
     "metadata": {
      "needs_background": "light"
     },
     "output_type": "display_data"
    }
   ],
   "source": [
    "genre_counts = movies['genres'].str.split('|').explode().value_counts()\n",
    "\n",
    "sns.barplot(y=genre_counts.index, x=genre_counts.values, palette='viridis')\n",
    "plt.title(\"Most Common Genres\")\n",
    "plt.xlabel(\"Number of Movies\")\n",
    "plt.ylabel(\"Genre\")\n",
    "plt.show()"
   ]
  },
  {
   "cell_type": "code",
   "execution_count": 30,
   "metadata": {
    "colab": {
     "base_uri": "https://localhost:8080/",
     "height": 464
    },
    "executionInfo": {
     "elapsed": 299,
     "status": "ok",
     "timestamp": 1744828598691,
     "user": {
      "displayName": "Maureen Ngahu",
      "userId": "08681592930822732414"
     },
     "user_tz": -180
    },
    "id": "Q2AVSQ4dfL5o",
    "outputId": "6346ba97-4921-4ae8-8ce4-e9b2376db336"
   },
   "outputs": [
    {
     "data": {
      "image/png": "[encoded data removed]",
      "text/plain": [
       "<Figure size 864x360 with 1 Axes>"
      ]
     },
     "metadata": {
      "needs_background": "light"
     },
     "output_type": "display_data"
    }
   ],
   "source": [
    "df_merge_cleaned['year'] = df_merge_cleaned['year'].dropna().astype(int)\n",
    "\n",
    "yearly_counts = df_merge_cleaned['year'].value_counts().sort_index()\n",
    "\n",
    "plt.figure(figsize=(12, 5))\n",
    "sns.lineplot(x=yearly_counts.index, y=yearly_counts.values)\n",
    "plt.title(\"Number of Movies Released Per Year\")\n",
    "plt.xlabel(\"Year\")\n",
    "plt.ylabel(\"Number of Movies\")\n",
    "plt.show()"
   ]
  },
  {
   "cell_type": "code",
   "execution_count": 31,
   "metadata": {
    "colab": {
     "base_uri": "https://localhost:8080/",
     "height": 564
    },
    "executionInfo": {
     "elapsed": 476,
     "status": "ok",
     "timestamp": 1744828599165,
     "user": {
      "displayName": "Maureen Ngahu",
      "userId": "08681592930822732414"
     },
     "user_tz": -180
    },
    "id": "F_46FcpLgCFB",
    "outputId": "5085e8f6-a23e-4324-8853-a4dd7f4a714f"
   },
   "outputs": [
    {
     "data": {
      "image/png": "[encoded data removed]",
      "text/plain": [
       "<Figure size 720x432 with 1 Axes>"
      ]
     },
     "metadata": {
      "needs_background": "light"
     },
     "output_type": "display_data"
    }
   ],
   "source": [
    "top_tags = df_merge_cleaned['tag'].str.lower().value_counts().head(20)\n",
    "\n",
    "plt.figure(figsize=(10, 6))\n",
    "sns.barplot(y=top_tags.index, x=top_tags.values, palette='magma')\n",
    "plt.title(\"Top 20 Most Frequent Tags\")\n",
    "plt.xlabel(\"Frequency\")\n",
    "plt.ylabel(\"Tag\")\n",
    "plt.show()"
   ]
  },
  {
   "cell_type": "code",
   "execution_count": 32,
   "metadata": {
    "colab": {
     "base_uri": "https://localhost:8080/",
     "height": 489
    },
    "executionInfo": {
     "elapsed": 4,
     "status": "ok",
     "timestamp": 1744828599170,
     "user": {
      "displayName": "Maureen Ngahu",
      "userId": "08681592930822732414"
     },
     "user_tz": -180
    },
    "id": "4webugZigbTb",
    "outputId": "ae95fd6f-6e9e-40d0-b2a6-1ac8b30f54e8"
   },
   "outputs": [
    {
     "data": {
      "text/plain": [
       "414    2698\n",
       "599    2478\n",
       "474    2108\n",
       "448    1864\n",
       "274    1346\n",
       "       ... \n",
       "406      20\n",
       "595      20\n",
       "569      20\n",
       "431      20\n",
       "442      20\n",
       "Name: userId, Length: 610, dtype: int64"
      ]
     },
     "execution_count": 32,
     "metadata": {},
     "output_type": "execute_result"
    }
   ],
   "source": [
    "#  number of ratings per user\n",
    "user_counts = ratings['userId'].value_counts()\n",
    "user_counts"
   ]
  },
  {
   "cell_type": "markdown",
   "metadata": {
    "id": "9aKGzIDvg-Uj"
   },
   "source": [
    "# Bivariate analysis"
   ]
  },
  {
   "cell_type": "code",
   "execution_count": 33,
   "metadata": {
    "colab": {
     "base_uri": "https://localhost:8080/",
     "height": 564
    },
    "executionInfo": {
     "elapsed": 305,
     "status": "ok",
     "timestamp": 1744828599476,
     "user": {
      "displayName": "Maureen Ngahu",
      "userId": "08681592930822732414"
     },
     "user_tz": -180
    },
    "id": "Il-CIgMXg7H6",
    "outputId": "d2fcecac-376d-4528-e2ad-7848990c2cf3"
   },
   "outputs": [
    {
     "data": {
      "image/png": "[encoded data removed]",
      "text/plain": [
       "<Figure size 720x432 with 1 Axes>"
      ]
     },
     "metadata": {
      "needs_background": "light"
     },
     "output_type": "display_data"
    }
   ],
   "source": [
    "movie_stats = ratings.groupby('movieId')['rating'].agg(['count', 'mean']).reset_index()\n",
    "\n",
    "plt.figure(figsize=(10,6))\n",
    "sns.scatterplot(data=movie_stats, x='count', y='mean', alpha=0.5)\n",
    "plt.title(\"Number of Ratings vs Average Rating\")\n",
    "plt.xlabel(\"Number of Ratings\")\n",
    "plt.ylabel(\"Average Rating\")\n",
    "plt.show()"
   ]
  },
  {
   "cell_type": "code",
   "execution_count": 34,
   "metadata": {
    "id": "B7ljWWk9sA3p"
   },
   "outputs": [],
   "source": [
    "#active_users = df_merge_cleaned['userId_rating'].value_counts()\n",
    "#df_merge_rating = df_merge_cleaned[df_merge_cleaned['userId_rating'].isin(active_users[active_users ==0].index)]\n",
    "#df_merge_rating.shape\n"
   ]
  },
  {
   "cell_type": "markdown",
   "metadata": {
    "id": "GoZkhxWUtKi0"
   },
   "source": [
    "## Mutivariate Analysis\n"
   ]
  },
  {
   "cell_type": "code",
   "execution_count": 35,
   "metadata": {
    "colab": {
     "base_uri": "https://localhost:8080/",
     "height": 480
    },
    "executionInfo": {
     "elapsed": 473,
     "status": "ok",
     "timestamp": 1744828599953,
     "user": {
      "displayName": "Maureen Ngahu",
      "userId": "08681592930822732414"
     },
     "user_tz": -180
    },
    "id": "ujL5SLn3tI6_",
    "outputId": "b3811b2f-b275-48de-b58a-14b1f76634b9"
   },
   "outputs": [
    {
     "data": {
      "image/png": "[encoded data removed]",
      "text/plain": [
       "<Figure size 864x432 with 1 Axes>"
      ]
     },
     "metadata": {
      "needs_background": "light"
     },
     "output_type": "display_data"
    }
   ],
   "source": [
    "import matplotlib.pyplot as plt\n",
    "import seaborn as sns\n",
    "import pandas as pd\n",
    "\n",
    "# Aggregate data: count of ratings, average rating, average year\n",
    "rating_summary = df_merge_cleaned.groupby('rating').agg(\n",
    "    count=('rating', 'count'),\n",
    "    mean_year=('year', 'mean')\n",
    ").reset_index()\n",
    "\n",
    "# Scatterplot using the aggregated data\n",
    "plt.figure(figsize=(12, 6))\n",
    "sns.scatterplot(\n",
    "    data=rating_summary,\n",
    "    x='count',            # Number of ratings\n",
    "    y='rating',           # The actual rating value (e.g., 4.5, 3.0, etc.)\n",
    "    size='mean_year',     # Bubble size: average year of those ratings\n",
    "    hue='mean_year',\n",
    "    sizes=(20, 300), palette='viridis', alpha=0.6\n",
    ")\n",
    "plt.title(\"Number of Ratings vs Rating Value (Bubble Size = Avg Year)\")\n",
    "plt.xlabel(\"Number of Ratings\")\n",
    "plt.ylabel(\"Rating\")\n",
    "plt.legend(title='Avg Year', bbox_to_anchor=(1.05, 1), loc='upper left')\n",
    "plt.show()\n",
    "\n"
   ]
  },
  {
   "cell_type": "markdown",
   "metadata": {
    "id": "MrTy8-MBfba5"
   },
   "source": [
    "# Preprocessing"
   ]
  },
  {
   "cell_type": "markdown",
   "metadata": {
    "id": "u5GXO6TdKgHB"
   },
   "source": [
    "###Encoding"
   ]
  },
  {
   "cell_type": "code",
   "execution_count": 36,
   "metadata": {
    "id": "eXzVqbEt91HD"
   },
   "outputs": [],
   "source": [
    "import pandas as pd\n",
    "import numpy as np\n",
    "from sklearn.preprocessing import MultiLabelBinarizer, MinMaxScaler, LabelEncoder\n",
    "from sklearn.feature_extraction.text import TfidfVectorizer"
   ]
  },
  {
   "cell_type": "code",
   "execution_count": 37,
   "metadata": {
    "colab": {
     "base_uri": "https://localhost:8080/"
    },
    "executionInfo": {
     "elapsed": 2245,
     "status": "ok",
     "timestamp": 1744828602202,
     "user": {
      "displayName": "Maureen Ngahu",
      "userId": "08681592930822732414"
     },
     "user_tz": -180
    },
    "id": "cXKkqAtKOTNx",
    "outputId": "0705e181-4362-49d6-d82f-5b37ae7d5976"
   },
   "outputs": [
    {
     "name": "stdout",
     "output_type": "stream",
     "text": [
      "   movieId      title     genres  userId_rating  rating    timestamp_rating  \\\n",
      "0        1  Toy Story  Adventure              1     4.0 2000-07-30 18:45:03   \n",
      "1        1  Toy Story  Animation              1     4.0 2000-07-30 18:45:03   \n",
      "2        1  Toy Story   Children              1     4.0 2000-07-30 18:45:03   \n",
      "3        1  Toy Story     Comedy              1     4.0 2000-07-30 18:45:03   \n",
      "4        1  Toy Story    Fantasy              1     4.0 2000-07-30 18:45:03   \n",
      "\n",
      "   userId_tag    tag       timestamp_tag       year  ...  Film-Noir  Horror  \\\n",
      "0         336  pixar 2006-02-04 09:36:04 1995-01-01  ...          0       0   \n",
      "1         336  pixar 2006-02-04 09:36:04 1995-01-01  ...          0       0   \n",
      "2         336  pixar 2006-02-04 09:36:04 1995-01-01  ...          0       0   \n",
      "3         336  pixar 2006-02-04 09:36:04 1995-01-01  ...          0       0   \n",
      "4         336  pixar 2006-02-04 09:36:04 1995-01-01  ...          0       0   \n",
      "\n",
      "   IMAX  Musical  Mystery  Romance  Sci-Fi  Thriller  War  Western  \n",
      "0     0        0        0        0       0         0    0        0  \n",
      "1     0        0        0        0       0         0    0        0  \n",
      "2     0        0        0        0       0         0    0        0  \n",
      "3     0        0        0        0       0         0    0        0  \n",
      "4     0        0        0        0       0         0    0        0  \n",
      "\n",
      "[5 rows x 30 columns]\n"
     ]
    }
   ],
   "source": [
    "#One-hot encoding\n",
    "mlb = MultiLabelBinarizer()\n",
    "genre_encoded = mlb.fit_transform(df_exploded['genres'].str.split('|'))\n",
    "genre_df = pd.DataFrame(genre_encoded, columns=mlb.classes_)\n",
    "\n",
    "\n",
    "df_exploded = pd.concat([df_exploded, genre_df], axis=1)\n",
    "\n",
    "\n",
    "print(df_exploded.head())\n"
   ]
  },
  {
   "cell_type": "code",
   "execution_count": 38,
   "metadata": {
    "id": "klw-buR4Oyjn"
   },
   "outputs": [],
   "source": [
    "\n",
    "\n",
    "# Initialize LabelEncoders\n",
    "# user_encoder = LabelEncoder()\n",
    "# movie_encoder = LabelEncoder()\n",
    "\n",
    "# # Fit and transform user IDs\n",
    "# df_merge_cleaned['userId_encoded'] = user_encoder.fit_transform(df_merge_cleaned['userId_rating'])\n",
    "\n",
    "# # Fit and transform movie IDs\n",
    "# df_merge_cleaned['movieId_encoded'] = movie_encoder.fit_transform(df_merge_cleaned['movieId'])\n",
    "\n",
    "# df_merge_cleaned['userId_tag_encoded'] = userId_tag_encoder.fit_transform(df_merge_cleaned['userId_tag'])\n",
    "\n",
    "# print(df_merge_cleaned.head())\n"
   ]
  },
  {
   "cell_type": "code",
   "execution_count": 39,
   "metadata": {
    "id": "m0Ccz0EkoTT1"
   },
   "outputs": [],
   "source": [
    "# Initialize LabelEncoders\n",
    "# user_encoder = LabelEncoder()\n",
    "# movie_encoder = LabelEncoder()\n",
    "# userid_encoder = LabelEncoder()\n",
    "\n",
    "\n",
    "# df_exploded['userId_encoded'] = user_encoder.fit_transform(df_exploded['userId_rating'])\n",
    "\n",
    "\n",
    "# df_exploded['movieId_encoded'] = movie_encoder.fit_transform(df_exploded['movieId'])\n",
    "\n",
    "# df_exploded['userId_tag_encoded'] = userid_encoder.fit_transform(df_exploded['userId_tag'])\n",
    "\n",
    "# print(df_exploded.head())\n"
   ]
  },
  {
   "cell_type": "code",
   "execution_count": 40,
   "metadata": {
    "colab": {
     "base_uri": "https://localhost:8080/"
    },
    "executionInfo": {
     "elapsed": 212,
     "status": "ok",
     "timestamp": 1744828602456,
     "user": {
      "displayName": "Maureen Ngahu",
      "userId": "08681592930822732414"
     },
     "user_tz": -180
    },
    "id": "uYjpMUKGqXdG",
    "outputId": "b0894bb9-4f81-4939-a77b-50dc50043bfc"
   },
   "outputs": [
    {
     "name": "stdout",
     "output_type": "stream",
     "text": [
      "   movieId      title     genres  userId_rating  rating    timestamp_rating  \\\n",
      "0        0  Toy Story  Adventure              0     4.0 2000-07-30 18:45:03   \n",
      "1        0  Toy Story  Animation              0     4.0 2000-07-30 18:45:03   \n",
      "2        0  Toy Story   Children              0     4.0 2000-07-30 18:45:03   \n",
      "3        0  Toy Story     Comedy              0     4.0 2000-07-30 18:45:03   \n",
      "4        0  Toy Story    Fantasy              0     4.0 2000-07-30 18:45:03   \n",
      "\n",
      "   userId_tag    tag       timestamp_tag       year  ...  Film-Noir  Horror  \\\n",
      "0          32  pixar 2006-02-04 09:36:04 1995-01-01  ...          0       0   \n",
      "1          32  pixar 2006-02-04 09:36:04 1995-01-01  ...          0       0   \n",
      "2          32  pixar 2006-02-04 09:36:04 1995-01-01  ...          0       0   \n",
      "3          32  pixar 2006-02-04 09:36:04 1995-01-01  ...          0       0   \n",
      "4          32  pixar 2006-02-04 09:36:04 1995-01-01  ...          0       0   \n",
      "\n",
      "   IMAX  Musical  Mystery  Romance  Sci-Fi  Thriller  War  Western  \n",
      "0     0        0        0        0       0         0    0        0  \n",
      "1     0        0        0        0       0         0    0        0  \n",
      "2     0        0        0        0       0         0    0        0  \n",
      "3     0        0        0        0       0         0    0        0  \n",
      "4     0        0        0        0       0         0    0        0  \n",
      "\n",
      "[5 rows x 30 columns]\n"
     ]
    }
   ],
   "source": [
    "# Initialize LabelEncoders\n",
    "user_encoder = LabelEncoder()\n",
    "movie_encoder = LabelEncoder()\n",
    "userid_encoder = LabelEncoder()\n",
    "\n",
    "\n",
    "df_exploded['userId_rating'] = user_encoder.fit_transform(df_exploded['userId_rating'])\n",
    "\n",
    "\n",
    "df_exploded['movieId'] = movie_encoder.fit_transform(df_exploded['movieId'])\n",
    "\n",
    "df_exploded['userId_tag'] = userid_encoder.fit_transform(df_exploded['userId_tag'])\n",
    "\n",
    "print(df_exploded.head())"
   ]
  },
  {
   "cell_type": "code",
   "execution_count": 41,
   "metadata": {
    "colab": {
     "base_uri": "https://localhost:8080/"
    },
    "executionInfo": {
     "elapsed": 162,
     "status": "ok",
     "timestamp": 1744828602619,
     "user": {
      "displayName": "Maureen Ngahu",
      "userId": "08681592930822732414"
     },
     "user_tz": -180
    },
    "id": "gTkjcbgiO8hQ",
    "outputId": "46bfaf8f-f7dc-4843-d3ed-e7cd5a6baa9d"
   },
   "outputs": [
    {
     "name": "stdout",
     "output_type": "stream",
     "text": [
      "movieId  1       2       3       4       5       6       7       8       \\\n",
      "userId                                                                    \n",
      "1           4.0     NaN     4.0     NaN     NaN     4.0     NaN     NaN   \n",
      "2           NaN     NaN     NaN     NaN     NaN     NaN     NaN     NaN   \n",
      "3           NaN     NaN     NaN     NaN     NaN     NaN     NaN     NaN   \n",
      "4           NaN     NaN     NaN     NaN     NaN     NaN     NaN     NaN   \n",
      "5           4.0     NaN     NaN     NaN     NaN     NaN     NaN     NaN   \n",
      "\n",
      "movieId  9       10      ...  193565  193567  193571  193573  193579  193581  \\\n",
      "userId                   ...                                                   \n",
      "1           NaN     NaN  ...     NaN     NaN     NaN     NaN     NaN     NaN   \n",
      "2           NaN     NaN  ...     NaN     NaN     NaN     NaN     NaN     NaN   \n",
      "3           NaN     NaN  ...     NaN     NaN     NaN     NaN     NaN     NaN   \n",
      "4           NaN     NaN  ...     NaN     NaN     NaN     NaN     NaN     NaN   \n",
      "5           NaN     NaN  ...     NaN     NaN     NaN     NaN     NaN     NaN   \n",
      "\n",
      "movieId  193583  193585  193587  193609  \n",
      "userId                                   \n",
      "1           NaN     NaN     NaN     NaN  \n",
      "2           NaN     NaN     NaN     NaN  \n",
      "3           NaN     NaN     NaN     NaN  \n",
      "4           NaN     NaN     NaN     NaN  \n",
      "5           NaN     NaN     NaN     NaN  \n",
      "\n",
      "[5 rows x 9724 columns]\n"
     ]
    }
   ],
   "source": [
    "# The utility matrix was already created in the provided code:\n",
    "utility_matrix = ratings.pivot_table(index='userId', columns='movieId', values='rating')\n",
    "\n",
    "# To print the first few rows:\n",
    "print(utility_matrix.head())\n"
   ]
  },
  {
   "cell_type": "code",
   "execution_count": 42,
   "metadata": {
    "colab": {
     "base_uri": "https://localhost:8080/"
    },
    "executionInfo": {
     "elapsed": 10145,
     "status": "ok",
     "timestamp": 1744828612766,
     "user": {
      "displayName": "Maureen Ngahu",
      "userId": "08681592930822732414"
     },
     "user_tz": -180
    },
    "id": "tpMhtPWSPIgg",
    "outputId": "4c0b8af3-9d64-4c8e-d739-ea6e9af749ac"
   },
   "outputs": [
    {
     "name": "stdout",
     "output_type": "stream",
     "text": [
      "    06  1900s  1920s  1950s  1960s  1970s  1980s  1990s  2001  250  ...  york  \\\n",
      "0  0.0    0.0    0.0    0.0    0.0    0.0    0.0    0.0   0.0  0.0  ...   0.0   \n",
      "1  0.0    0.0    0.0    0.0    0.0    0.0    0.0    0.0   0.0  0.0  ...   0.0   \n",
      "2  0.0    0.0    0.0    0.0    0.0    0.0    0.0    0.0   0.0  0.0  ...   0.0   \n",
      "3  0.0    0.0    0.0    0.0    0.0    0.0    0.0    0.0   0.0  0.0  ...   0.0   \n",
      "4  0.0    0.0    0.0    0.0    0.0    0.0    0.0    0.0   0.0  0.0  ...   0.0   \n",
      "\n",
      "   you  younger  your  zellweger  zither  zoe  zombie  zombies  zooey  \n",
      "0  0.0      0.0   0.0        0.0     0.0  0.0     0.0      0.0    0.0  \n",
      "1  0.0      0.0   0.0        0.0     0.0  0.0     0.0      0.0    0.0  \n",
      "2  0.0      0.0   0.0        0.0     0.0  0.0     0.0      0.0    0.0  \n",
      "3  0.0      0.0   0.0        0.0     0.0  0.0     0.0      0.0    0.0  \n",
      "4  0.0      0.0   0.0        0.0     0.0  0.0     0.0      0.0    0.0  \n",
      "\n",
      "[5 rows x 1741 columns]\n"
     ]
    }
   ],
   "source": [
    "\n",
    "tfidf = TfidfVectorizer()\n",
    "tfidf_matrix = tfidf.fit_transform(df_exploded['tag'])\n",
    "tfidf_df = pd.DataFrame(tfidf_matrix.toarray(), columns=tfidf.get_feature_names_out())\n",
    "print(tfidf_df.head())\n"
   ]
  },
  {
   "cell_type": "markdown",
   "metadata": {
    "id": "Wky-7AMMTb55"
   },
   "source": [
    "## Scaling\n",
    "\n"
   ]
  },
  {
   "cell_type": "code",
   "execution_count": 43,
   "metadata": {
    "colab": {
     "base_uri": "https://localhost:8080/",
     "height": 359
    },
    "executionInfo": {
     "elapsed": 52,
     "status": "ok",
     "timestamp": 1744828612847,
     "user": {
      "displayName": "Maureen Ngahu",
      "userId": "08681592930822732414"
     },
     "user_tz": -180
    },
    "id": "Leli8sbZZU8K",
    "outputId": "e55290e4-e7c2-449e-fcc7-11a491b70cfd"
   },
   "outputs": [
    {
     "data": {
      "text/html": [
       "<div>\n",
       "<style scoped>\n",
       "    .dataframe tbody tr th:only-of-type {\n",
       "        vertical-align: middle;\n",
       "    }\n",
       "\n",
       "    .dataframe tbody tr th {\n",
       "        vertical-align: top;\n",
       "    }\n",
       "\n",
       "    .dataframe thead th {\n",
       "        text-align: right;\n",
       "    }\n",
       "</style>\n",
       "<table border=\"1\" class=\"dataframe\">\n",
       "  <thead>\n",
       "    <tr style=\"text-align: right;\">\n",
       "      <th></th>\n",
       "      <th>movieId</th>\n",
       "      <th>title</th>\n",
       "      <th>genres</th>\n",
       "      <th>userId_rating</th>\n",
       "      <th>rating</th>\n",
       "      <th>timestamp_rating</th>\n",
       "      <th>userId_tag</th>\n",
       "      <th>tag</th>\n",
       "      <th>timestamp_tag</th>\n",
       "      <th>year</th>\n",
       "      <th>...</th>\n",
       "      <th>Film-Noir</th>\n",
       "      <th>Horror</th>\n",
       "      <th>IMAX</th>\n",
       "      <th>Musical</th>\n",
       "      <th>Mystery</th>\n",
       "      <th>Romance</th>\n",
       "      <th>Sci-Fi</th>\n",
       "      <th>Thriller</th>\n",
       "      <th>War</th>\n",
       "      <th>Western</th>\n",
       "    </tr>\n",
       "  </thead>\n",
       "  <tbody>\n",
       "    <tr>\n",
       "      <th>0</th>\n",
       "      <td>0</td>\n",
       "      <td>Toy Story</td>\n",
       "      <td>Adventure</td>\n",
       "      <td>0</td>\n",
       "      <td>0.714286</td>\n",
       "      <td>2000-07-30 18:45:03</td>\n",
       "      <td>32</td>\n",
       "      <td>pixar</td>\n",
       "      <td>2006-02-04 09:36:04</td>\n",
       "      <td>1995-01-01</td>\n",
       "      <td>...</td>\n",
       "      <td>0</td>\n",
       "      <td>0</td>\n",
       "      <td>0</td>\n",
       "      <td>0</td>\n",
       "      <td>0</td>\n",
       "      <td>0</td>\n",
       "      <td>0</td>\n",
       "      <td>0</td>\n",
       "      <td>0</td>\n",
       "      <td>0</td>\n",
       "    </tr>\n",
       "    <tr>\n",
       "      <th>1</th>\n",
       "      <td>0</td>\n",
       "      <td>Toy Story</td>\n",
       "      <td>Animation</td>\n",
       "      <td>0</td>\n",
       "      <td>0.714286</td>\n",
       "      <td>2000-07-30 18:45:03</td>\n",
       "      <td>32</td>\n",
       "      <td>pixar</td>\n",
       "      <td>2006-02-04 09:36:04</td>\n",
       "      <td>1995-01-01</td>\n",
       "      <td>...</td>\n",
       "      <td>0</td>\n",
       "      <td>0</td>\n",
       "      <td>0</td>\n",
       "      <td>0</td>\n",
       "      <td>0</td>\n",
       "      <td>0</td>\n",
       "      <td>0</td>\n",
       "      <td>0</td>\n",
       "      <td>0</td>\n",
       "      <td>0</td>\n",
       "    </tr>\n",
       "    <tr>\n",
       "      <th>2</th>\n",
       "      <td>0</td>\n",
       "      <td>Toy Story</td>\n",
       "      <td>Children</td>\n",
       "      <td>0</td>\n",
       "      <td>0.714286</td>\n",
       "      <td>2000-07-30 18:45:03</td>\n",
       "      <td>32</td>\n",
       "      <td>pixar</td>\n",
       "      <td>2006-02-04 09:36:04</td>\n",
       "      <td>1995-01-01</td>\n",
       "      <td>...</td>\n",
       "      <td>0</td>\n",
       "      <td>0</td>\n",
       "      <td>0</td>\n",
       "      <td>0</td>\n",
       "      <td>0</td>\n",
       "      <td>0</td>\n",
       "      <td>0</td>\n",
       "      <td>0</td>\n",
       "      <td>0</td>\n",
       "      <td>0</td>\n",
       "    </tr>\n",
       "    <tr>\n",
       "      <th>3</th>\n",
       "      <td>0</td>\n",
       "      <td>Toy Story</td>\n",
       "      <td>Comedy</td>\n",
       "      <td>0</td>\n",
       "      <td>0.714286</td>\n",
       "      <td>2000-07-30 18:45:03</td>\n",
       "      <td>32</td>\n",
       "      <td>pixar</td>\n",
       "      <td>2006-02-04 09:36:04</td>\n",
       "      <td>1995-01-01</td>\n",
       "      <td>...</td>\n",
       "      <td>0</td>\n",
       "      <td>0</td>\n",
       "      <td>0</td>\n",
       "      <td>0</td>\n",
       "      <td>0</td>\n",
       "      <td>0</td>\n",
       "      <td>0</td>\n",
       "      <td>0</td>\n",
       "      <td>0</td>\n",
       "      <td>0</td>\n",
       "    </tr>\n",
       "    <tr>\n",
       "      <th>4</th>\n",
       "      <td>0</td>\n",
       "      <td>Toy Story</td>\n",
       "      <td>Fantasy</td>\n",
       "      <td>0</td>\n",
       "      <td>0.714286</td>\n",
       "      <td>2000-07-30 18:45:03</td>\n",
       "      <td>32</td>\n",
       "      <td>pixar</td>\n",
       "      <td>2006-02-04 09:36:04</td>\n",
       "      <td>1995-01-01</td>\n",
       "      <td>...</td>\n",
       "      <td>0</td>\n",
       "      <td>0</td>\n",
       "      <td>0</td>\n",
       "      <td>0</td>\n",
       "      <td>0</td>\n",
       "      <td>0</td>\n",
       "      <td>0</td>\n",
       "      <td>0</td>\n",
       "      <td>0</td>\n",
       "      <td>0</td>\n",
       "    </tr>\n",
       "  </tbody>\n",
       "</table>\n",
       "<p>5 rows × 30 columns</p>\n",
       "</div>"
      ],
      "text/plain": [
       "   movieId      title     genres  userId_rating    rating    timestamp_rating  \\\n",
       "0        0  Toy Story  Adventure              0  0.714286 2000-07-30 18:45:03   \n",
       "1        0  Toy Story  Animation              0  0.714286 2000-07-30 18:45:03   \n",
       "2        0  Toy Story   Children              0  0.714286 2000-07-30 18:45:03   \n",
       "3        0  Toy Story     Comedy              0  0.714286 2000-07-30 18:45:03   \n",
       "4        0  Toy Story    Fantasy              0  0.714286 2000-07-30 18:45:03   \n",
       "\n",
       "   userId_tag    tag       timestamp_tag       year  ...  Film-Noir  Horror  \\\n",
       "0          32  pixar 2006-02-04 09:36:04 1995-01-01  ...          0       0   \n",
       "1          32  pixar 2006-02-04 09:36:04 1995-01-01  ...          0       0   \n",
       "2          32  pixar 2006-02-04 09:36:04 1995-01-01  ...          0       0   \n",
       "3          32  pixar 2006-02-04 09:36:04 1995-01-01  ...          0       0   \n",
       "4          32  pixar 2006-02-04 09:36:04 1995-01-01  ...          0       0   \n",
       "\n",
       "   IMAX  Musical  Mystery  Romance  Sci-Fi  Thriller  War  Western  \n",
       "0     0        0        0        0       0         0    0        0  \n",
       "1     0        0        0        0       0         0    0        0  \n",
       "2     0        0        0        0       0         0    0        0  \n",
       "3     0        0        0        0       0         0    0        0  \n",
       "4     0        0        0        0       0         0    0        0  \n",
       "\n",
       "[5 rows x 30 columns]"
      ]
     },
     "execution_count": 43,
     "metadata": {},
     "output_type": "execute_result"
    }
   ],
   "source": [
    "# perform minmax scaler for rating\n",
    "\n",
    "# Assuming 'df_merge_cleaned' is your DataFrame and 'rating' is the column you want to scale\n",
    "scaler = MinMaxScaler()\n",
    "df_exploded['rating'] = scaler.fit_transform(df_exploded[['rating']])\n",
    "df_exploded.head()\n"
   ]
  },
  {
   "cell_type": "markdown",
   "metadata": {
    "id": "1MaPezjYKnbk"
   },
   "source": [
    "#Modeling"
   ]
  },
  {
   "cell_type": "code",
   "execution_count": 45,
   "metadata": {
    "colab": {
     "base_uri": "https://localhost:8080/"
    },
    "executionInfo": {
     "elapsed": 685,
     "status": "ok",
     "timestamp": 1744828613536,
     "user": {
      "displayName": "Maureen Ngahu",
      "userId": "08681592930822732414"
     },
     "user_tz": -180
    },
    "id": "6qXLS2ilgqdg",
    "outputId": "6d3aab9b-64c8-4998-cd9d-8f0e8a6ce518"
   },
   "outputs": [
    {
     "name": "stdout",
     "output_type": "stream",
     "text": [
      "Train set shape: (522984, 30)\n",
      "Validation set shape: (112068, 30)\n",
      "Test set shape: (112069, 30)\n"
     ]
    }
   ],
   "source": [
    "# prompt: generate a train,validation and test split using df_exploded dataset.\n",
    "\n",
    "from sklearn.model_selection import train_test_split\n",
    "\n",
    "# Assuming df_exploded is your preprocessed DataFrame\n",
    "train_df, temp_df = train_test_split(df_exploded, test_size=0.3, random_state=42)\n",
    "val_df, test_df = train_test_split(temp_df, test_size=0.5, random_state=42)\n",
    "\n",
    "print(f\"Train set shape: {train_df.shape}\")\n",
    "print(f\"Validation set shape: {val_df.shape}\")\n",
    "print(f\"Test set shape: {test_df.shape}\")\n"
   ]
  },
  {
   "cell_type": "markdown",
   "metadata": {
    "id": "TapnrF5lMFJN"
   },
   "source": [
    "### User Based Collaborative Filtering"
   ]
  },
  {
   "cell_type": "code",
   "execution_count": 47,
   "metadata": {
    "colab": {
     "base_uri": "https://localhost:8080/"
    },
    "executionInfo": {
     "elapsed": 990,
     "status": "ok",
     "timestamp": 1744828614552,
     "user": {
      "displayName": "Maureen Ngahu",
      "userId": "08681592930822732414"
     },
     "user_tz": -180
    },
    "id": "Gxt-lLzWj2Ao",
    "outputId": "82dadda8-c5b0-458f-851f-5acefd348250"
   },
   "outputs": [
    {
     "data": {
      "text/plain": [
       "[(1200, 4.80100193758383),\n",
       " (1610, 4.298950005529132),\n",
       " (541, 4.004742155042099),\n",
       " (589, 4.003711070249842),\n",
       " (1036, 4.0)]"
      ]
     },
     "execution_count": 47,
     "metadata": {},
     "output_type": "execute_result"
    }
   ],
   "source": [
    "\n",
    "from sklearn.neighbors import NearestNeighbors\n",
    "\n",
    "# Assuming 'utility_matrix' is your user-item rating matrix\n",
    "# and it has been preprocessed as shown in the provided code\n",
    "\n",
    "# Fill NaN values with 0 for KNN\n",
    "utility_matrix_filled = utility_matrix.fillna(0)\n",
    "\n",
    "# Fit KNN model\n",
    "knn_model = NearestNeighbors(metric='cosine', algorithm='brute', n_neighbors=5)\n",
    "knn_model.fit(utility_matrix_filled)\n",
    "\n",
    "# Function to get KNN recommendations\n",
    "def get_knn_recommendations(user_id, n=5):\n",
    "    # Find similar users\n",
    "    distances, indices = knn_model.kneighbors(utility_matrix_filled.iloc[user_id -1].values.reshape(1, -1), n_neighbors=6) # Exclude the user themself\n",
    "\n",
    "    similar_user_ids = indices.flatten()[1:] # Exclude the first element which is the user themself\n",
    "    similar_user_distances = distances.flatten()[1:]\n",
    "\n",
    "    # Get the ratings of similar users for movies not yet rated by the target user\n",
    "    weighted_ratings = {}\n",
    "\n",
    "    for i, user in enumerate(similar_user_ids):\n",
    "        for movie, rating in utility_matrix.iloc[user].items():\n",
    "            if pd.notna(rating) and movie not in utility_matrix.iloc[user_id-1].dropna().index:\n",
    "                weighted_ratings.setdefault(movie, 0)\n",
    "                weighted_ratings[movie] += rating * (1 - similar_user_distances[i])\n",
    "\n",
    "    # Normalize the weighted ratings\n",
    "    for movie, rating in weighted_ratings.items():\n",
    "        weighted_ratings[movie] = rating / sum(1 - similar_user_distances)\n",
    "\n",
    "    # Sort and return top N recommendations\n",
    "    recommendations = sorted(weighted_ratings.items(), key=lambda x: x[1], reverse=True)[:n]\n",
    "    return recommendations\n",
    "\n",
    "\n",
    "# Get recommendations for user 1\n",
    "recommendations_user1 = get_knn_recommendations(user_id=1)\n",
    "\n",
    "# print(\"\\nKNN Recommendations for user 1:\")\n",
    "recommendations_user1\n"
   ]
  },
  {
   "cell_type": "code",
   "execution_count": 48,
   "metadata": {
    "colab": {
     "base_uri": "https://localhost:8080/",
     "height": 272
    },
    "executionInfo": {
     "elapsed": 247,
     "status": "ok",
     "timestamp": 1744828614801,
     "user": {
      "displayName": "Maureen Ngahu",
      "userId": "08681592930822732414"
     },
     "user_tz": -180
    },
    "id": "aHkP2DXusOhw",
    "outputId": "3b540114-3f91-440b-db0c-dd950a745f95"
   },
   "outputs": [
    {
     "data": {
      "text/plain": [
       "movieId\n",
       "589     4.195979\n",
       "1610    3.957980\n",
       "924     3.855366\n",
       "1036    3.805436\n",
       "1968    3.574258\n",
       "dtype: float64"
      ]
     },
     "execution_count": 48,
     "metadata": {},
     "output_type": "execute_result"
    }
   ],
   "source": [
    "# prompt: generate user based collaborative filtering using the train test split without KNN\n",
    "\n",
    "import pandas as pd\n",
    "from sklearn.metrics.pairwise import cosine_similarity\n",
    "\n",
    "# Assuming 'utility_matrix' is your user-item rating matrix\n",
    "# and it has been preprocessed as shown in the provided code\n",
    "\n",
    "# Fill NaN values with 0 for similarity calculation\n",
    "utility_matrix_filled = utility_matrix.fillna(0)\n",
    "\n",
    "# Calculate user similarity using cosine similarity\n",
    "user_similarity = cosine_similarity(utility_matrix_filled)\n",
    "\n",
    "# Convert to DataFrame for easier handling\n",
    "user_similarity_df = pd.DataFrame(user_similarity, index=utility_matrix.index, columns=utility_matrix.index)\n",
    "\n",
    "def get_user_based_recommendations(user_id, n=5):\n",
    "    # Find similar users\n",
    "    similar_users = user_similarity_df[user_id].sort_values(ascending=False)[1:11] #Exclude the user themself\n",
    "\n",
    "    # Calculate weighted ratings based on similar users\n",
    "    weighted_ratings = utility_matrix.loc[similar_users.index].T.dot(similar_users)\n",
    "    normalization = similar_users.sum()\n",
    "    scores = weighted_ratings / normalization\n",
    "\n",
    "    # Exclude movies already rated by the user\n",
    "    known_movies = utility_matrix.loc[user_id].dropna().index\n",
    "    scores = scores.drop(known_movies, errors='ignore')\n",
    "\n",
    "    # Return top N recommendations\n",
    "    return scores.sort_values(ascending=False).head(n)\n",
    "\n",
    "# Example usage: Get recommendations for user 1\n",
    "recommendations_user1 = get_user_based_recommendations(user_id=1)\n",
    "recommendations_user1\n"
   ]
  },
  {
   "cell_type": "markdown",
   "metadata": {
    "id": "6Iq8DGnHMe7S"
   },
   "source": [
    "### Item Based Collaborative Filtering"
   ]
  },
  {
   "cell_type": "code",
   "execution_count": 49,
   "metadata": {
    "id": "3mA9YyK5Mdro"
   },
   "outputs": [],
   "source": [
    "# item_similarity = cosine_similarity(utility_matrix.fillna(0).T)\n",
    "# item_similarity_df = pd.DataFrame(item_similarity, index=utility_matrix.columns, columns=utility_matrix.columns)\n",
    "\n",
    "# def get_item_based_recommendations(user_id, n=5):\n",
    "#     user_ratings = utility_matrix.loc[user_id].dropna()\n",
    "#     scores = item_similarity_df[user_ratings.index].dot(user_ratings)\n",
    "#     scores /= item_similarity_df[user_ratings.index].sum(axis=1)\n",
    "#     scores = scores.drop(user_ratings.index, errors='ignore')\n",
    "#     return scores.sort_values(ascending=False).head(n)\n",
    "\n",
    "# print(\"\\nItem-Based CF Recommendations:\")\n",
    "# print(get_item_based_recommendations(user_id=1))"
   ]
  },
  {
   "cell_type": "code",
   "execution_count": 50,
   "metadata": {
    "colab": {
     "base_uri": "https://localhost:8080/",
     "height": 272
    },
    "executionInfo": {
     "elapsed": 242,
     "status": "ok",
     "timestamp": 1744828615055,
     "user": {
      "displayName": "Maureen Ngahu",
      "userId": "08681592930822732414"
     },
     "user_tz": -180
    },
    "id": "OHwpCtutsgFu",
    "outputId": "ab2df82b-da64-45d3-c20b-95e4d372e4e2"
   },
   "outputs": [
    {
     "data": {
      "text/plain": [
       "movieId\n",
       "1525    0.916312\n",
       "1459    0.857143\n",
       "1492    0.837433\n",
       "1538    0.837433\n",
       "1485    0.837433\n",
       "dtype: float64"
      ]
     },
     "execution_count": 50,
     "metadata": {},
     "output_type": "execute_result"
    }
   ],
   "source": [
    "# prompt: generate code for item based collaborative filtering using train test split without KNN\n",
    "\n",
    "def get_item_based_recommendations(user_id, n=5, train_df=train_df):\n",
    "    \"\"\"\n",
    "    Generates item-based collaborative filtering recommendations without KNN.\n",
    "\n",
    "    Args:\n",
    "        user_id: The ID of the user for whom to generate recommendations.\n",
    "        n: The number of recommendations to return.\n",
    "        train_df: Training DataFrame (required for utility matrix).\n",
    "\n",
    "    Returns:\n",
    "        A Pandas Series containing the top N recommended movie IDs and their predicted ratings.\n",
    "    \"\"\"\n",
    "    # Create utility matrix from the training data\n",
    "    utility_matrix = train_df.pivot_table(index='userId_rating', columns='movieId', values='rating')\n",
    "\n",
    "    # Calculate item similarity using cosine similarity\n",
    "    item_similarity = cosine_similarity(utility_matrix.fillna(0).T)\n",
    "    item_similarity_df = pd.DataFrame(item_similarity, index=utility_matrix.columns, columns=utility_matrix.columns)\n",
    "\n",
    "    # Get the user's ratings from the utility matrix\n",
    "    user_ratings = utility_matrix.loc[user_id].dropna()\n",
    "\n",
    "    if user_ratings.empty:  # Handle cases where the user has no ratings in the training set\n",
    "        return pd.Series(dtype=float)  # Return empty series or handle it differently\n",
    "\n",
    "    # Predict ratings for unrated items\n",
    "    scores = item_similarity_df[user_ratings.index].dot(user_ratings)\n",
    "    scores /= item_similarity_df[user_ratings.index].sum(axis=1)\n",
    "    scores = scores.drop(user_ratings.index, errors='ignore')\n",
    "\n",
    "    return scores.sort_values(ascending=False).head(n)\n",
    "\n",
    "# Example usage:\n",
    "recommendations = get_item_based_recommendations(user_id=1)\n",
    "recommendations\n"
   ]
  },
  {
   "cell_type": "code",
   "execution_count": 51,
   "metadata": {
    "colab": {
     "base_uri": "https://localhost:8080/",
     "height": 272
    },
    "executionInfo": {
     "elapsed": 3487,
     "status": "ok",
     "timestamp": 1744828618543,
     "user": {
      "displayName": "Maureen Ngahu",
      "userId": "08681592930822732414"
     },
     "user_tz": -180
    },
    "id": "xWcUyzNRsuxF",
    "outputId": "f8ad7cf4-aee7-4bbb-dfa6-7b00686fd7fc"
   },
   "outputs": [
    {
     "data": {
      "text/plain": [
       "movieId\n",
       "2896      5.0\n",
       "175585    5.0\n",
       "183911    5.0\n",
       "158035    5.0\n",
       "157369    5.0\n",
       "dtype: float64"
      ]
     },
     "execution_count": 51,
     "metadata": {},
     "output_type": "execute_result"
    }
   ],
   "source": [
    "# prompt: generate code for item based collaborative filtering using train test data using KNN\n",
    "\n",
    "# Assuming 'utility_matrix' is your user-item rating matrix\n",
    "# and it has been preprocessed as shown in the provided code\n",
    "\n",
    "# Fill NaN values with 0 for similarity calculation\n",
    "utility_matrix_filled = utility_matrix.fillna(0)\n",
    "\n",
    "# Calculate item similarity using cosine similarity\n",
    "item_similarity = cosine_similarity(utility_matrix_filled.T)\n",
    "\n",
    "# Convert to DataFrame for easier handling\n",
    "item_similarity_df = pd.DataFrame(item_similarity, index=utility_matrix.columns, columns=utility_matrix.columns)\n",
    "\n",
    "def get_item_based_recommendations(user_id, n=5):\n",
    "    \"\"\"\n",
    "    Generates item-based collaborative filtering recommendations.\n",
    "\n",
    "    Args:\n",
    "        user_id: The ID of the user for whom to generate recommendations.\n",
    "        n: The number of recommendations to return.\n",
    "\n",
    "    Returns:\n",
    "        A Pandas Series containing the top N recommended movie IDs and their predicted ratings.\n",
    "    \"\"\"\n",
    "    # Get the user's ratings from the utility matrix\n",
    "    user_ratings = utility_matrix.loc[user_id].dropna()\n",
    "\n",
    "    if user_ratings.empty:  # Handle cases where the user has no ratings\n",
    "        return pd.Series(dtype=float)  # Return empty series or handle it differently\n",
    "\n",
    "    # Predict ratings for unrated items\n",
    "    scores = item_similarity_df[user_ratings.index].dot(user_ratings)\n",
    "    scores /= item_similarity_df[user_ratings.index].sum(axis=1)\n",
    "    scores = scores.drop(user_ratings.index, errors='ignore')\n",
    "\n",
    "    return scores.sort_values(ascending=False).head(n)\n",
    "\n",
    "# Example usage: Get recommendations for user 1\n",
    "recommendations_user1 = get_item_based_recommendations(user_id=1)\n",
    "recommendations_user1\n"
   ]
  },
  {
   "cell_type": "markdown",
   "metadata": {
    "id": "m8d7ag6QNNlX"
   },
   "source": [
    "### Matrix Vectorisation using SVD"
   ]
  },
  {
   "cell_type": "code",
   "execution_count": 52,
   "metadata": {
    "id": "TRfK029XNOWE"
   },
   "outputs": [],
   "source": [
    "# # Model 3: Matrix Factorization using SVD\n",
    "# imputer = SimpleImputer(strategy='mean')\n",
    "# filled_matrix = imputer.fit_transform(utility_matrix)\n",
    "# svd = TruncatedSVD(n_components=20)\n",
    "# matrix_svd = svd.fit_transform(filled_matrix)\n",
    "\n"
   ]
  },
  {
   "cell_type": "code",
   "execution_count": 53,
   "metadata": {
    "colab": {
     "base_uri": "https://localhost:8080/"
    },
    "executionInfo": {
     "elapsed": 4791,
     "status": "ok",
     "timestamp": 1744828623369,
     "user": {
      "displayName": "Maureen Ngahu",
      "userId": "08681592930822732414"
     },
     "user_tz": -180
    },
    "id": "V-q9RfmbtENw",
    "outputId": "2c9b9b71-2057-4155-bc7b-8bd336d8e6da"
   },
   "outputs": [
    {
     "data": {
      "text/plain": [
       "[(1259, 2.950004768329013),\n",
       " (541, 2.7999988472963326),\n",
       " (589, 2.750010478169515),\n",
       " (1968, 2.70001231154575),\n",
       " (150, 2.6000004786160473)]"
      ]
     },
     "execution_count": 53,
     "metadata": {},
     "output_type": "execute_result"
    }
   ],
   "source": [
    "# prompt: generate recommendation using SVD for user 1\n",
    "\n",
    "from sklearn.decomposition import TruncatedSVD\n",
    "from sklearn.impute import SimpleImputer\n",
    "\n",
    "# Assuming 'utility_matrix' is your user-item rating matrix\n",
    "# and it has been preprocessed as shown in the provided code\n",
    "\n",
    "# Fill NaN values with the mean for SVD\n",
    "imputer = SimpleImputer(strategy='mean')\n",
    "filled_matrix = imputer.fit_transform(utility_matrix)\n",
    "\n",
    "# Apply SVD\n",
    "svd = TruncatedSVD(n_components=20)  # You can adjust the number of components\n",
    "matrix_svd = svd.fit_transform(filled_matrix)\n",
    "\n",
    "# Function to get SVD recommendations\n",
    "def get_svd_recommendations(user_id, n=5):\n",
    "    user_ratings = matrix_svd[user_id -1] # Get the user's latent factor vector\n",
    "    similarities = cosine_similarity([user_ratings], matrix_svd) # Calculate cosine similarity with other users\n",
    "\n",
    "    # Exclude the user themself\n",
    "    similarities = similarities.flatten()\n",
    "    similarities[user_id - 1] = -1  # Set similarity with self to -1 for exclusion\n",
    "    similar_users = similarities.argsort()[::-1][:10]  # Find top 10 similar users (excluding self)\n",
    "\n",
    "    # Predict ratings based on similar users\n",
    "    weighted_ratings = {}\n",
    "    for user in similar_users:\n",
    "        for movie in utility_matrix.columns:\n",
    "            rating = utility_matrix.iloc[user][movie]\n",
    "            if pd.notna(rating) and movie not in utility_matrix.iloc[user_id-1].dropna().index:\n",
    "                weighted_ratings.setdefault(movie, 0)\n",
    "                weighted_ratings[movie] += rating * similarities[user]\n",
    "\n",
    "    # Normalize weighted ratings\n",
    "    for movie, rating in weighted_ratings.items():\n",
    "        weighted_ratings[movie] = rating / sum(similarities[similar_users])\n",
    "\n",
    "    recommendations = sorted(weighted_ratings.items(), key=lambda x: x[1], reverse=True)[:n]\n",
    "    return recommendations\n",
    "\n",
    "\n",
    "# Get SVD recommendations for user 1\n",
    "svd_recommendations_user1 = get_svd_recommendations(user_id=1)\n",
    "svd_recommendations_user1\n"
   ]
  },
  {
   "cell_type": "markdown",
   "metadata": {
    "id": "Xoi5XrAwQb3M"
   },
   "source": [
    "### Content Based Filtering"
   ]
  },
  {
   "cell_type": "code",
   "execution_count": 56,
   "metadata": {
    "id": "zGcTubFYwX5q"
   },
   "outputs": [
    {
     "name": "stdout",
     "output_type": "stream",
     "text": [
      "Top 5 content-based recommendations for 'Toy Story':\n",
      "1. Bug's Life, A\n",
      "2. Toy Story 2\n",
      "3. Guardians of the Galaxy 2\n",
      "4. Up\n",
      "5. Big Hero 6\n"
     ]
    }
   ],
   "source": [
    " # content based filtering using above train test data and give recommendations\n",
    "import pandas as pd\n",
    "from sklearn.feature_extraction.text import TfidfVectorizer\n",
    "from sklearn.metrics.pairwise import cosine_similarity\n",
    "\n",
    "def get_content_based_recommendations(movie_title, n=5, df_exploded=None):\n",
    "    \"\"\"\n",
    "    Generates content-based filtering recommendations based on movie title.\n",
    "\n",
    "    Args:\n",
    "        movie_title: The title of the movie for which to find similar movies.\n",
    "        n: Number of recommendations to return.\n",
    "        df_exploded: DataFrame with movieId, title, and tag.\n",
    "\n",
    "    Returns:\n",
    "        A list of recommended movie titles.\n",
    "    \"\"\"\n",
    "\n",
    "    if df_exploded is None:\n",
    "        return [\"Error: DataFrame not provided.\"]\n",
    "\n",
    "    # Handle missing tags and group by movieId to avoid duplicates\n",
    "    df_grouped = df_exploded.groupby(['movieId', 'title'])['tag'].apply(lambda x: ' '.join(x.dropna())).reset_index()\n",
    "\n",
    "    # Check if movie exists\n",
    "    if movie_title not in df_grouped['title'].values:\n",
    "        print(f\"Movie '{movie_title}' not found in the dataset.\")\n",
    "        return []\n",
    "\n",
    "    # Create TF-IDF matrix from tags\n",
    "    tfidf = TfidfVectorizer(stop_words='english')\n",
    "    tfidf_matrix = tfidf.fit_transform(df_grouped['tag'].fillna(''))\n",
    "\n",
    "    # Find the index of the movie\n",
    "    idx = df_grouped[df_grouped['title'] == movie_title].index[0]\n",
    "\n",
    "    # Compute cosine similarity\n",
    "    cosine_sim = cosine_similarity(tfidf_matrix, tfidf_matrix)\n",
    "\n",
    "    # Get similarity scores for the movie\n",
    "    sim_scores = list(enumerate(cosine_sim[idx]))\n",
    "\n",
    "    # Sort and get top N\n",
    "    sim_scores = sorted(sim_scores, key=lambda x: x[1], reverse=True)\n",
    "    sim_scores = sim_scores[1:n+1]  # Exclude the input movie\n",
    "\n",
    "    # Get movie indices and titles\n",
    "    movie_indices = [i[0] for i in sim_scores]\n",
    "    recommended_titles = df_grouped['title'].iloc[movie_indices].tolist()\n",
    "\n",
    "    return recommended_titles\n",
    "\n",
    "\n",
    "# ====== Example Usage ======\n",
    "# Sample dummy data (Replace with your df_exploded)\n",
    "sample_data = df_exploded\n",
    "    \n",
    "df_exploded = pd.DataFrame(sample_data)\n",
    "\n",
    "# Run the function\n",
    "recommendations = get_content_based_recommendations(\"Toy Story\", n=5, df_exploded=df_exploded)\n",
    "\n",
    "# Output\n",
    "print(\"Top 5 content-based recommendations for 'Toy Story':\")\n",
    "for i, title in enumerate(recommendations, 1):\n",
    "    print(f\"{i}. {title}\")\n"
   ]
  },
  {
   "cell_type": "markdown",
   "metadata": {
    "id": "g_X1SAOIQy0_"
   },
   "source": [
    "### Hybrid: Content based + User Based Collaborative filtering\n",
    "\n",
    "\n",
    "\n"
   ]
  },
  {
   "cell_type": "code",
   "execution_count": 57,
   "metadata": {
    "id": "JlZ_kGHTRRpF"
   },
   "outputs": [
    {
     "name": "stdout",
     "output_type": "stream",
     "text": [
      "Hybrid Recommendations for User 1 and 'Toy Story':\n",
      "1. Toy Story\n",
      "2. Dark Knight Rises, The\n",
      "3. 3:10 to Yuma\n",
      "4. Sixth Sense, The\n",
      "5. Jezebel\n"
     ]
    }
   ],
   "source": [
    "#generate a hybrid model for both content based and user based collaborative filtering\n",
    "\n",
    "import pandas as pd\n",
    "import numpy as np\n",
    "from sklearn.metrics.pairwise import cosine_similarity\n",
    "from sklearn.feature_extraction.text import TfidfVectorizer\n",
    "\n",
    "def hybrid_recommendations(user_id, movie_title, n=5, train_df=None):\n",
    "    \"\"\"\n",
    "    Generates hybrid recommendations combining content-based and collaborative filtering.\n",
    "    Memory-efficient and error-handled.\n",
    "    \"\"\"\n",
    "\n",
    "    # === Basic Checks === #\n",
    "    if train_df is None:\n",
    "        return [\"Error: train_df must be provided.\"]\n",
    "    \n",
    "    required_cols = {'userId_tag', 'movieId', 'title', 'tag', 'rating'}\n",
    "    if not required_cols.issubset(train_df.columns):\n",
    "        return [f\"Error: Dataset must contain columns {required_cols}\"]\n",
    "\n",
    "    if movie_title not in train_df['title'].values:\n",
    "        return [f\"Error: Movie '{movie_title}' not found in dataset.\"]\n",
    "\n",
    "    if user_id not in train_df['userId_tag'].unique():\n",
    "        return [f\"Error: User ID '{user_id}' not found in dataset.\"]\n",
    "\n",
    "    # === Step 1: Content-Based Filtering === #\n",
    "    tfidf = TfidfVectorizer(stop_words='english', max_features=5000)\n",
    "    tfidf_matrix = tfidf.fit_transform(train_df['tag'].fillna(''))\n",
    "\n",
    "    # Get the movie index\n",
    "    movie_idx = train_df[train_df['title'] == movie_title].index[0]\n",
    "\n",
    "    # Compute cosine similarity with all movies\n",
    "    query_vec = tfidf_matrix[movie_idx]\n",
    "    content_sim = cosine_similarity(query_vec, tfidf_matrix).flatten()\n",
    "\n",
    "    # Top similar movies based on content\n",
    "    content_scores = list(enumerate(content_sim))\n",
    "    content_scores = sorted(content_scores, key=lambda x: x[1], reverse=True)\n",
    "    content_scores = content_scores[1:n+10]  # Get more to merge later\n",
    "    content_indices = [i[0] for i in content_scores]\n",
    "    content_titles = train_df.iloc[content_indices]['title'].tolist()\n",
    "\n",
    "    # === Step 2: Collaborative Filtering === #\n",
    "    # Create user-movie rating matrix\n",
    "    utility_matrix = train_df.pivot_table(index='userId_tag', columns='movieId', values='rating')\n",
    "    utility_matrix = utility_matrix.fillna(0)\n",
    "\n",
    "    user_idx = list(utility_matrix.index).index(user_id)\n",
    "\n",
    "    user_sim_matrix = cosine_similarity(utility_matrix)\n",
    "    sim_users = user_sim_matrix[user_idx]\n",
    "\n",
    "    # Weighted sum of ratings from similar users\n",
    "    weighted_scores = np.dot(user_sim_matrix[user_idx], utility_matrix.values)\n",
    "    normalization = np.sum(sim_users)\n",
    "    \n",
    "    if normalization == 0:\n",
    "        collab_scores = pd.Series(weighted_scores, index=utility_matrix.columns)\n",
    "    else:\n",
    "        collab_scores = pd.Series(weighted_scores / normalization, index=utility_matrix.columns)\n",
    "\n",
    "    # Filter out movies the user has already rated\n",
    "    watched_movies = utility_matrix.loc[user_id]\n",
    "    collab_scores = collab_scores[watched_movies == 0]\n",
    "\n",
    "    # Get top movie IDs from collaborative filtering\n",
    "    top_collab_movie_ids = collab_scores.sort_values(ascending=False).head(n+10).index\n",
    "    movie_id_title_map = train_df.drop_duplicates('movieId').set_index('movieId')['title'].to_dict()\n",
    "    collab_titles = [movie_id_title_map.get(mid) for mid in top_collab_movie_ids if movie_id_title_map.get(mid)]\n",
    "\n",
    "    # === Step 3: Combine Recommendations === #\n",
    "    combined = list(dict.fromkeys(content_titles + collab_titles))  # Remove duplicates\n",
    "    return combined[:n]\n",
    "\n",
    "\n",
    "# === Example Dummy Data === #\n",
    "sample_data = df_exploded\n",
    "    \n",
    "train_df = pd.DataFrame(sample_data)\n",
    "\n",
    "# === Test the Function === #\n",
    "recs = hybrid_recommendations(user_id=1, movie_title=\"Toy Story\", n=5, train_df=train_df)\n",
    "\n",
    "print(\"Hybrid Recommendations for User 1 and 'Toy Story':\")\n",
    "for i, title in enumerate(recs, 1):\n",
    "    print(f\"{i}. {title}\")\n"
   ]
  },
  {
   "cell_type": "markdown",
   "metadata": {
    "id": "XHmGxbkSSRKW"
   },
   "source": [
    "## Visualisation"
   ]
  },
  {
   "cell_type": "code",
   "execution_count": 58,
   "metadata": {
    "colab": {
     "base_uri": "https://localhost:8080/",
     "height": 564
    },
    "executionInfo": {
     "elapsed": 182,
     "status": "ok",
     "timestamp": 1744801922544,
     "user": {
      "displayName": "Maureen Ngahu",
      "userId": "08681592930822732414"
     },
     "user_tz": -180
    },
    "id": "u1mouMa7S5o9",
    "outputId": "428ea1b8-a9bb-477c-865c-736c32db252f"
   },
   "outputs": [
    {
     "data": {
      "image/png": "[encoded data removed]",
      "text/plain": [
       "<Figure size 576x432 with 1 Axes>"
      ]
     },
     "metadata": {
      "needs_background": "light"
     },
     "output_type": "display_data"
    }
   ],
   "source": [
    "# prompt: generate a code that gives visualisation of RMSE or MAE and also shows the percentage on the graph\n",
    "\n",
    "import matplotlib.pyplot as plt\n",
    "\n",
    "def visualize_rmse_mae(rmse, mae):\n",
    "    \"\"\"Visualizes RMSE and MAE with percentages.\n",
    "\n",
    "    Args:\n",
    "        rmse: The Root Mean Squared Error.\n",
    "        mae: The Mean Absolute Error.\n",
    "    \"\"\"\n",
    "\n",
    "    metrics = ['RMSE', 'MAE']\n",
    "    values = [rmse, mae]\n",
    "\n",
    "    # Calculate percentages (assuming a maximum possible error of 5 for demonstration)\n",
    "    max_error = 5  # Replace with your actual maximum possible error or a suitable value\n",
    "    percentages = [(value / max_error) * 100 for value in values]\n",
    "\n",
    "    plt.figure(figsize=(8, 6))\n",
    "    bars = plt.bar(metrics, values, color=['skyblue', 'lightcoral'])\n",
    "\n",
    "    # Add percentage labels on top of the bars\n",
    "    for bar, percentage in zip(bars, percentages):\n",
    "        yval = bar.get_height()\n",
    "        plt.text(bar.get_x() + bar.get_width()/2, yval, f'{percentage:.1f}%', ha='center', va='bottom')\n",
    "\n",
    "    plt.xlabel('Metrics')\n",
    "    plt.ylabel('Error')\n",
    "    plt.title('RMSE and MAE Visualization')\n",
    "    plt.ylim(0, max_error)  # Set y-axis limit to accommodate percentages\n",
    "    plt.show()\n",
    "\n",
    "\n",
    "# Example usage (replace with your actual RMSE and MAE values):\n",
    "rmse_value = 0.85\n",
    "mae_value = 0.6\n",
    "\n",
    "visualize_rmse_mae(rmse_value, mae_value)\n"
   ]
  },
  {
   "cell_type": "code",
   "execution_count": null,
   "metadata": {
    "id": "5hQuyrxQTcan"
   },
   "outputs": [],
   "source": [
    "from sklearn.metrics import mean_absolute_error\n",
    "\n",
    "def evaluate_model(true_ratings, predicted_ratings):\n",
    "    mae = mean_absolute_error(true_ratings, predicted_ratings)\n",
    "    rmse = sqrt(mean_squared_error(true_ratings, predicted_ratings))\n",
    "    return mae, rmse"
   ]
  },
  {
   "cell_type": "code",
   "execution_count": 60,
   "metadata": {
    "colab": {
     "base_uri": "https://localhost:8080/",
     "height": 934
    },
    "executionInfo": {
     "elapsed": 374937,
     "status": "ok",
     "timestamp": 1744805158819,
     "user": {
      "displayName": "Maureen Ngahu",
      "userId": "08681592930822732414"
     },
     "user_tz": -180
    },
    "id": "nWdAoO_vd7CN",
    "outputId": "d8290f9c-8263-4cfb-81fa-759cbc43f7d9"
   },
   "outputs": [
    {
     "name": "stdout",
     "output_type": "stream",
     "text": [
      "Model: \"functional_3\"\n",
      "__________________________________________________________________________________________________\n",
      "Layer (type)                    Output Shape         Param #     Connected to                     \n",
      "==================================================================================================\n",
      "user_input (InputLayer)         [(None, 1)]          0                                            \n",
      "__________________________________________________________________________________________________\n",
      "movie_input (InputLayer)        [(None, 1)]          0                                            \n",
      "__________________________________________________________________________________________________\n",
      "embedding_2 (Embedding)         (None, 1, 16)        896         user_input[0][0]                 \n",
      "__________________________________________________________________________________________________\n",
      "embedding_3 (Embedding)         (None, 1, 16)        24816       movie_input[0][0]                \n",
      "__________________________________________________________________________________________________\n",
      "flatten_2 (Flatten)             (None, 16)           0           embedding_2[0][0]                \n",
      "__________________________________________________________________________________________________\n",
      "flatten_3 (Flatten)             (None, 16)           0           embedding_3[0][0]                \n",
      "__________________________________________________________________________________________________\n",
      "concatenate_1 (Concatenate)     (None, 32)           0           flatten_2[0][0]                  \n",
      "                                                                 flatten_3[0][0]                  \n",
      "__________________________________________________________________________________________________\n",
      "dense_3 (Dense)                 (None, 32)           1056        concatenate_1[0][0]              \n",
      "__________________________________________________________________________________________________\n",
      "dense_4 (Dense)                 (None, 1)            33          dense_3[0][0]                    \n",
      "==================================================================================================\n",
      "Total params: 26,801\n",
      "Trainable params: 26,801\n",
      "Non-trainable params: 0\n",
      "__________________________________________________________________________________________________\n",
      "Epoch 1/5\n",
      "16811/16811 [==============================] - 35s 2ms/step - loss: 0.0527 - mae: 0.1837 - val_loss: 0.0511 - val_mae: 0.1826\n",
      "Epoch 2/5\n",
      "16811/16811 [==============================] - 35s 2ms/step - loss: 0.0510 - mae: 0.1813 - val_loss: 0.0506 - val_mae: 0.1799\n",
      "Epoch 3/5\n",
      "16811/16811 [==============================] - 35s 2ms/step - loss: 0.0509 - mae: 0.1811 - val_loss: 0.0504 - val_mae: 0.1801\n",
      "Epoch 4/5\n",
      "16811/16811 [==============================] - 35s 2ms/step - loss: 0.0508 - mae: 0.1810 - val_loss: 0.0504 - val_mae: 0.1801\n",
      "Epoch 5/5\n",
      "16811/16811 [==============================] - 36s 2ms/step - loss: 0.0508 - mae: 0.1809 - val_loss: 0.0503 - val_mae: 0.1802\n",
      "\n",
      "✅ MAE on Test Set: 0.1810\n",
      "\n",
      "🔮 Sample Predictions:\n",
      "User 42 → Movie 303: Predicted Rating = 0.74\n",
      "User 52 → Movie 77: Predicted Rating = 0.80\n",
      "User 52 → Movie 76: Predicted Rating = 0.74\n",
      "User 52 → Movie 76: Predicted Rating = 0.74\n",
      "User 49 → Movie 126: Predicted Rating = 0.80\n"
     ]
    }
   ],
   "source": [
    "# prompt: generate a code for neural net recommender system\n",
    "\n",
    "import pandas as pd\n",
    "import numpy as np\n",
    "from sklearn.model_selection import train_test_split\n",
    "from sklearn.preprocessing import LabelEncoder\n",
    "import tensorflow as tf\n",
    "from tensorflow import keras\n",
    "from tensorflow.keras import layers\n",
    "\n",
    "# === Load your actual DataFrame (replace df_exploded with your data) === #\n",
    "df = df_exploded.copy()\n",
    "\n",
    "# === Encode userId and movieId === #\n",
    "user_encoder = LabelEncoder()\n",
    "movie_encoder = LabelEncoder()\n",
    "df['user'] = user_encoder.fit_transform(df['userId_tag'])\n",
    "df['movie'] = movie_encoder.fit_transform(df['movieId'])\n",
    "\n",
    "num_users = df['user'].nunique()\n",
    "num_movies = df['movie'].nunique()\n",
    "\n",
    "# === Lightweight Neural Network Model === #\n",
    "def create_fast_neural_net(num_users, num_movies, embedding_dim=16):\n",
    "    user_input = keras.Input(shape=(1,), name='user_input')\n",
    "    movie_input = keras.Input(shape=(1,), name='movie_input')\n",
    "\n",
    "    user_embedding = layers.Embedding(num_users, embedding_dim)(user_input)\n",
    "    movie_embedding = layers.Embedding(num_movies, embedding_dim)(movie_input)\n",
    "\n",
    "    user_vec = layers.Flatten()(user_embedding)\n",
    "    movie_vec = layers.Flatten()(movie_embedding)\n",
    "\n",
    "    merged = layers.Concatenate()([user_vec, movie_vec])\n",
    "    dense = layers.Dense(32, activation='relu')(merged)\n",
    "    output = layers.Dense(1)(dense)\n",
    "\n",
    "    model = keras.Model(inputs=[user_input, movie_input], outputs=output)\n",
    "    model.compile(optimizer='adam', loss='mse', metrics=['mae'])\n",
    "    return model\n",
    "\n",
    "model = create_fast_neural_net(num_users, num_movies)\n",
    "model.summary()\n",
    "\n",
    "# === Prepare Training Data === #\n",
    "X_user = df['user'].values\n",
    "X_movie = df['movie'].values\n",
    "y = df['rating'].values\n",
    "\n",
    "train_user, test_user, train_movie, test_movie, y_train, y_test = train_test_split(\n",
    "    X_user, X_movie, y, test_size=0.2, random_state=42\n",
    ")\n",
    "\n",
    "# === Fast Training === #\n",
    "history = model.fit(\n",
    "    [train_user, train_movie],\n",
    "    y_train,\n",
    "    epochs=5,               # Reduced epochs\n",
    "    batch_size=32,          # Larger batch size for speed\n",
    "    validation_split=0.1,\n",
    "    verbose=1\n",
    ")\n",
    "\n",
    "# === Evaluation === #\n",
    "loss, mae = model.evaluate([test_user, test_movie], y_test, verbose=0)\n",
    "print(f\"\\n✅ MAE on Test Set: {mae:.4f}\")\n",
    "\n",
    "# === Prediction Sample === #\n",
    "predictions = model.predict([test_user[:5], test_movie[:5]])\n",
    "print(\"\\n🔮 Sample Predictions:\")\n",
    "for u, m, pred in zip(test_user[:5], test_movie[:5], predictions):\n",
    "    real_user = user_encoder.inverse_transform([u])[0]\n",
    "    real_movie = movie_encoder.inverse_transform([m])[0]\n",
    "    print(f\"User {real_user} → Movie {real_movie}: Predicted Rating = {pred[0]:.2f}\")\n"
   ]
  }
 ],
 "metadata": {
  "colab": {
   "provenance": []
  },
  "kernelspec": {
   "display_name": "Python 3",
   "language": "python",
   "name": "python3"
  },
  "language_info": {
   "codemirror_mode": {
    "name": "ipython",
    "version": 3
   },
   "file_extension": ".py",
   "mimetype": "text/x-python",
   "name": "python",
   "nbconvert_exporter": "python",
   "pygments_lexer": "ipython3",
   "version": "3.8.5"
  }
 },
 "nbformat": 4,
 "nbformat_minor": 1
}
